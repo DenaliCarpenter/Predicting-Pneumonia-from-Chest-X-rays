{
 "cells": [
  {
   "cell_type": "markdown",
   "id": "e13da1e7-5ace-4bf0-8ac4-f338e5a0f6f8",
   "metadata": {},
   "source": [
    "<div style=\"background-color:lightblue; padding:10px; border-radius:5px; border:1px solid black;\">\n",
    "    <h1 style=\"color:black; text-align:center;\">Predicting Pneumonia in Chest X-Ray Images</h1>\n",
    "    <h3 style=\"color:black; text-align:center;\">An exploration on the efficacy of different modeling techniques</h3>\n",
    "    <h3 style=\"color:gray; text-align:center;\">Final Models for Pneumonia Detection in X-Rays</h3>\n",
    "</div>"
   ]
  },
  {
   "cell_type": "markdown",
   "id": "0426454d-c997-4515-9a59-8931c02e863f",
   "metadata": {},
   "source": [
    "# Introduction"
   ]
  },
  {
   "cell_type": "markdown",
   "id": "5671c15f-3ecf-4343-83c1-a5cb1375d005",
   "metadata": {},
   "source": [
    "## Problem Statement: \n",
    "\n",
    "- **Evaluating the Effectiveness of Machine Learning Techniques for Bacterial and Viral Pneumonia Detection in Chest X-Ray Images**"
   ]
  },
  {
   "cell_type": "markdown",
   "id": "547af4eb-d9b0-4ccd-b5f5-e509c0c8ca1d",
   "metadata": {},
   "source": [
    "## Research Questions:\n",
    "\n",
    "- What is the most effective and efficient model for predicting pneumonia diagnoses from chest x-ray images?\n",
    "\n",
    "- _Follow Up_: Can we accurately distinguish between viral and bacterial pneumonia via chest x-ray images?"
   ]
  },
  {
   "cell_type": "markdown",
   "id": "3be4eeae-090e-4abf-b26f-73736ebbf40b",
   "metadata": {},
   "source": [
    "## Data Overview:\n",
    "\n",
    "- Source: The data source for this study was found on [Kaggle](https://www.kaggle.com/datasets/paultimothymooney/chest-xray-pneumonia/data) and originally comes from the academic research dataset:\n",
    "    - Kermany, Daniel; Zhang, Kang; Goldbaum, Michael (2018). “Labeled Optical Coherence Tomography (OCT) and Chest X-Ray Images for Classification,” Mendeley Data, V2, [doi: 10.17632/rscbjbr9sj.2](https://doi.org/10.17632/rscbjbr9sj.2).<br>\n",
    "- Cross-Validation Split: The data from Kaggle is already organized into training, testing, and validation sets.\n",
    "    - There are 5,190 images in the cleaned training set, 618 images in the cleaned testing set, and 16 in the cleaned validation set.\n",
    "- Labels:\n",
    "    - NORMAL, PNEUMONIA\n",
    "    - PNEUMONIA is further broken down into\n",
    "        - Viral\n",
    "        - Bacterial  "
   ]
  },
  {
   "cell_type": "markdown",
   "id": "e34269ee-b26d-4073-8981-e12e8c3dc922",
   "metadata": {},
   "source": [
    "# Data Preprocessing and Exploratory Data Analysis"
   ]
  },
  {
   "cell_type": "markdown",
   "id": "480d4c14-1a67-4737-8c16-8cbf272e9e3c",
   "metadata": {},
   "source": [
    "This is a review of the data cleaning and analysis done in the document, \"EDA and Initial Model.ipynb.\""
   ]
  },
  {
   "cell_type": "markdown",
   "id": "a15b923a-ddfe-4373-8d14-009ffd6695a7",
   "metadata": {},
   "source": [
    "## Data Cleaning"
   ]
  },
  {
   "cell_type": "markdown",
   "id": "1991476c-6c8f-491f-9dba-fe0b126b2b96",
   "metadata": {},
   "source": [
    "The raw training data had 5,216 images, while the raw testing set had 624 images, and the raw validation set had 16 images. Before cleaning the data set label distribution was as follows:\n",
    "\n",
    "**Training Set**\n",
    "\n",
    "- PNEUMONIA: 3,875\n",
    "    - Viral: 1,345\n",
    "    - Bacterial: 2,530 \n",
    "- NORMAL: 1,341\n",
    "\n",
    "<br>\n",
    "\n",
    "**Testing Set**\n",
    "\n",
    "- PNEUMONIA: 390\n",
    "    - Viral: 148\n",
    "    - Bacterial: 242\n",
    "- NORMAL: 234\n",
    "\n",
    "<br>\n",
    "\n",
    "**Validation Set**\n",
    "\n",
    "- PNEUMONIA: 8\n",
    "    - Viral: 0\n",
    "    - Bacterial: 8 \n",
    "- NORMAL: 8"
   ]
  },
  {
   "cell_type": "markdown",
   "id": "8bb14b0d-8b84-422f-8671-c5f3d4cc67ad",
   "metadata": {},
   "source": [
    "### Duplicates Removed"
   ]
  },
  {
   "cell_type": "markdown",
   "id": "487ef7b7-cc44-46b2-bc86-e6c83c61658a",
   "metadata": {},
   "source": [
    "Images were converted to bytes and then the MD5 hash was computed and returned as a hexadecimal string for comparison. Then a function was written to compare the hash_values of all images. There were a total of 32 duplicates identified (26 in the training and 6 in the test set).\n",
    "\n",
    "After the duplicates were removed we were left with 5,190 images in the training set and 618 images in the test set. The validation set did not have any duplicates."
   ]
  },
  {
   "cell_type": "markdown",
   "id": "89b1e03d-4f32-441d-b632-871676c9f553",
   "metadata": {},
   "source": [
    "### Image Quality Check"
   ]
  },
  {
   "cell_type": "markdown",
   "id": "e4c0dcf9-3ad9-475c-9f8e-91b88ba6e91b",
   "metadata": {},
   "source": [
    "There were no corrupt or unreadable images found across all datasets."
   ]
  },
  {
   "cell_type": "markdown",
   "id": "b52ee7b6-75a4-4ed6-9445-1467aa69aed8",
   "metadata": {},
   "source": [
    "### Image Format and Conversion"
   ]
  },
  {
   "cell_type": "markdown",
   "id": "f204497b-4c4d-4f07-887f-57a1660e3953",
   "metadata": {},
   "source": [
    "Every images format was checked and if the format was not grayscale it was converted to grayscale. There were 283 images that were being stored as RGB images, but were grayscale. Again, the these images were converted to grayscale for consistency."
   ]
  },
  {
   "cell_type": "markdown",
   "id": "9c13ac6c-8a3d-44e7-8a65-ff04c9b0473f",
   "metadata": {},
   "source": [
    "### Label/Response Variable Imabalance"
   ]
  },
  {
   "cell_type": "markdown",
   "id": "334a5671-08b6-4365-afe2-83a0987b0758",
   "metadata": {},
   "source": [
    "In the data cleaning and preprocessing step, it became clear that there was class imbalance within the image labels. The training set contained 74.18% PNEUMONIA cases and 25.82% NORMAL cases. The testing set contained 62.62% PNEUMONIA cases and 37.38%. Finally, the validation set had 50% PNEUMONIA cases and 50% NORMAL cases. Clearly, there is some class imbalance in the training and testing sets. However, since we are training a model to diagnosis/detect PNEUMONIA we want to err on the side of caution by reducing the number of false negatives in favor of false positives (similar to how the COVID-19 tests are evaluated for efficacy).\n",
    "\n",
    "![alt text](images/class_distribution.png \"Class Distribution\")\n",
    "\n",
    "Further, the PNEUMONIA cases all looked to be predominantly bacterial pneumonia. In fact, the validation set has only bacterial pneumonia cases.\n",
    "\n",
    "![alt text](images/pneumonia_distribution.png \"Pneumonia Distribution\")"
   ]
  },
  {
   "cell_type": "markdown",
   "id": "cb53e1ec-3d7d-42fb-b389-973c62b7a740",
   "metadata": {},
   "source": [
    "## Data Analysis and Feature Engineering"
   ]
  },
  {
   "cell_type": "markdown",
   "id": "0e31cc6f-9c28-4852-9a0c-6813efff535d",
   "metadata": {},
   "source": [
    "### Statistical and texture-based features:"
   ]
  },
  {
   "cell_type": "markdown",
   "id": "0710adfb-f8ac-471c-9f42-6e8cc36af318",
   "metadata": {},
   "source": [
    "#### Gray-Level Co-Occurrence Matrix (GLCM)"
   ]
  },
  {
   "cell_type": "markdown",
   "id": "7c3c3aca-46b9-4451-bdd8-d120ae073f22",
   "metadata": {},
   "source": [
    "![alt text](images/GLCM_values_by_main_classes.png \"GLCM by Class\")"
   ]
  },
  {
   "cell_type": "markdown",
   "id": "ea4eaf00-33c4-4e3a-a742-fc271070eaa7",
   "metadata": {},
   "source": [
    "#### Fourier Transform for frequency-based features"
   ]
  },
  {
   "cell_type": "markdown",
   "id": "1db5629e-7d1a-4074-a1ad-190f6290e47e",
   "metadata": {},
   "source": [
    "![alt text](images/log10_fourier_transform_energy_main_classes.png \"Log 10 Fourier Transform Energy\")"
   ]
  },
  {
   "cell_type": "markdown",
   "id": "d48e8723-2e05-4eef-b605-9c6e64849472",
   "metadata": {},
   "source": [
    "#### Edge Strength & Blurriness analysis"
   ]
  },
  {
   "cell_type": "markdown",
   "id": "41c39cb5-c482-4ea6-8470-b71f61c9db67",
   "metadata": {},
   "source": [
    "Edge strength appears to show some difference between the PNEUMONIA class and the NORMAL class of X-rays.\n",
    "![alt text](images/edge_strength_main_classes.png)"
   ]
  },
  {
   "cell_type": "markdown",
   "id": "bbfef11f-da1f-419d-97fe-30604bebec32",
   "metadata": {},
   "source": [
    "There did not appear to be a difference in the Laplacian variance, which tells us how blurry an image is, between the classes."
   ]
  },
  {
   "cell_type": "markdown",
   "id": "2f5287c8-50d5-404d-9fb4-fba0a030d1d1",
   "metadata": {},
   "source": [
    "#### Brightness & Contrast distribution"
   ]
  },
  {
   "cell_type": "markdown",
   "id": "5eb4b33d-02cf-4ff2-b4a8-8629ea5c1643",
   "metadata": {},
   "source": [
    "![alt text](images/brightness_by_main_classes.png)"
   ]
  },
  {
   "cell_type": "markdown",
   "id": "44f4c66f-26ec-431b-b239-943bd45654fe",
   "metadata": {},
   "source": [
    "![alt text](images/contrast_by_main_classes.png)"
   ]
  },
  {
   "cell_type": "markdown",
   "id": "f8fe5ab5-6789-49ad-803f-193df8454547",
   "metadata": {},
   "source": [
    "### Dimensionality Reduction (PCA):"
   ]
  },
  {
   "cell_type": "markdown",
   "id": "40b2fccd-41b8-448c-9b80-e21280696cde",
   "metadata": {},
   "source": [
    "![alt text](images/optimal_number_of_PCA_components.png)\n",
    "\n",
    "Number of PCA components needed for 95% variance: 688"
   ]
  },
  {
   "cell_type": "markdown",
   "id": "bb03465f-87ba-4fa8-b942-e3224702f526",
   "metadata": {},
   "source": [
    "# Model Selections and Training"
   ]
  },
  {
   "cell_type": "markdown",
   "id": "fc480f09-5fff-414f-9579-14efd5596fee",
   "metadata": {},
   "source": [
    "## Baseline Models (for comparison)"
   ]
  },
  {
   "cell_type": "markdown",
   "id": "92c18bdd-8af5-454e-8ec7-32360a905dbe",
   "metadata": {},
   "source": [
    "### Dummy Classifier"
   ]
  },
  {
   "cell_type": "markdown",
   "id": "77396c48-876d-413c-85b9-5a593b3b0e43",
   "metadata": {},
   "source": [
    "![alt text](images/Confusion_Matrix_for_Dummy_Classifier.png)"
   ]
  },
  {
   "cell_type": "markdown",
   "id": "088c3a86-86d3-48d4-b027-28cdb9fffad2",
   "metadata": {},
   "source": [
    "Dummy Classifier Accuracy, Precision, Recall, and F1-Score:\n",
    "\n",
    "- **TP (True Positives - Pneumonia correctly identfied):** 387\n",
    "- **FN (False Negatives - Pneumonia misclassified as Normal):** 0\n",
    "- **TN (True Negatives - Normal correctly identified):** 0\n",
    "- **FP (False Positives - Normal misclassified as Pneumonia):** 231\n",
    "\n",
    "$\\text{Accuracy} = \\frac{\\text{TP+TN}}{\\text{TP+FP+TN+FN}}$\n",
    "$ = \\frac{387+0}{387+231+0+0} = \\frac{387}{618} \\approx 0.6262$\n",
    "\n",
    "$\\text{Recall} =  \\frac{\\text{TP}}{\\text{TP+FN}}$\n",
    "$ = \\frac{387}{387+0}=\\frac{387}{387} = 1.0000$\n",
    "\n",
    "$\\text{Precision} = \\frac{\\text{TP}}{\\text{TP+FP}}$\n",
    "$ = \\frac{387}{387+231}=\\frac{387}{618} \\approx 0.6262$\n",
    "\n",
    "$\\text{F1-Score} = 2 \\times \\frac{\\text{Precision}\\times \\text{Recall}}{\\text{Precision + Recall}}$\n",
    "$ = 2 \\times \\frac{0.6262 \\times 1.0000}{0.6262+1.000} = 2 \\times \\frac{0.6262}{1.6262} \\approx 0.7701$"
   ]
  },
  {
   "cell_type": "markdown",
   "id": "5328b5d7-21ab-4aa8-9fe9-2e0e3b3ac42b",
   "metadata": {},
   "source": [
    "### Random Forest Classifier"
   ]
  },
  {
   "cell_type": "markdown",
   "id": "97814f13-e3eb-4a48-b1a5-67887d7ca812",
   "metadata": {},
   "source": [
    "![alt text](images/Confusion_Matrix_for_Random_Forest_Classifier.png)"
   ]
  },
  {
   "cell_type": "markdown",
   "id": "f3c1499f-f3ec-4190-b7a1-4651e9511133",
   "metadata": {},
   "source": [
    "Base Random Forest Accuracy, Precision, Recall, and F1-Score:\n",
    "\n",
    "- **TP (True Positives - Pneumonia correctly identfied):** 386\n",
    "- **FN (False Negatives - Pneumonia misclassified as Normal):** 1\n",
    "- **TN (True Negatives - Normal correctly identified):** 40\n",
    "- **FP (False Positives - Normal misclassified as Pneumonia):** 191\n",
    "\n",
    "$\\text{Accuracy} = \\frac{\\text{TP+TN}}{\\text{TP+FP+TN+FN}}$\n",
    "$ = \\frac{386+40}{40+191+386+1} = \\frac{426}{618} \\approx 0.6893$\n",
    "\n",
    "$\\text{Recall} =  \\frac{\\text{TP}}{\\text{TP+FN}}$\n",
    "$ = \\frac{386}{386+1}=\\frac{386}{387} \\approx 0.9974$\n",
    "\n",
    "$\\text{Precision} = \\frac{\\text{TP}}{\\text{TP+FP}}$\n",
    "$ = \\frac{386}{386+191}=\\frac{386}{577} \\approx 0.6690$\n",
    "\n",
    "$\\text{F1-Score} = 2 \\times \\frac{\\text{Precision}\\times \\text{Recall}}{\\text{Precision + Recall}}$\n",
    "$ = 2 \\times \\frac{0.6893 \\times 0.9974}{0.6893+0.9974} = 2 \\times \\frac{0.6875}{1.6867} \\approx 0.8152$"
   ]
  },
  {
   "cell_type": "markdown",
   "id": "79370e5d-5263-4c47-8c16-198a725b89a9",
   "metadata": {},
   "source": [
    "## Advanced Machine Learning Models"
   ]
  },
  {
   "cell_type": "markdown",
   "id": "4c339f65-d5ca-4c13-a4c2-874bdeb257f3",
   "metadata": {},
   "source": [
    "### Import Modules"
   ]
  },
  {
   "cell_type": "code",
   "execution_count": 1,
   "id": "a4e45057-fc9f-41f8-88af-53cccddb5fe8",
   "metadata": {},
   "outputs": [],
   "source": [
    "from sklearn.model_selection import RandomizedSearchCV\n",
    "from sklearn.ensemble import VotingClassifier, RandomForestClassifier\n",
    "from sklearn.metrics import confusion_matrix, classification_report, accuracy_score\n",
    "from sklearn.preprocessing import StandardScaler\n",
    "from sklearn.svm import SVC\n",
    "import scipy.stats as stats\n",
    "import numpy as np\n",
    "import pandas as pd\n",
    "import matplotlib.pyplot as plt\n",
    "import seaborn as sns"
   ]
  },
  {
   "cell_type": "code",
   "execution_count": 3,
   "id": "da0170a2-4a5b-47d2-936e-7324703c1e96",
   "metadata": {},
   "outputs": [],
   "source": [
    "train_final = pd.read_csv('data/train_dataset_with_features_with_PCA.csv')\n",
    "test_final = pd.read_csv('data/test_dataset_with_features_with_PCA.csv')\n",
    "val_final = pd.read_csv('data/val_dataset_with_features_with_PCA.csv')"
   ]
  },
  {
   "cell_type": "code",
   "execution_count": 5,
   "id": "782185cc-fcdc-4ead-bd5e-f5efb3b7399f",
   "metadata": {},
   "outputs": [],
   "source": [
    "train_final = train_final.set_index(\"image_path\")\n",
    "test_final = test_final.set_index(\"image_path\")\n",
    "val_final = val_final.set_index(\"image_path\")"
   ]
  },
  {
   "cell_type": "code",
   "execution_count": 7,
   "id": "b0fa7c87-a360-400b-9984-3cda581b7791",
   "metadata": {},
   "outputs": [
    {
     "data": {
      "text/html": [
       "<div>\n",
       "<style scoped>\n",
       "    .dataframe tbody tr th:only-of-type {\n",
       "        vertical-align: middle;\n",
       "    }\n",
       "\n",
       "    .dataframe tbody tr th {\n",
       "        vertical-align: top;\n",
       "    }\n",
       "\n",
       "    .dataframe thead th {\n",
       "        text-align: right;\n",
       "    }\n",
       "</style>\n",
       "<table border=\"1\" class=\"dataframe\">\n",
       "  <thead>\n",
       "    <tr style=\"text-align: right;\">\n",
       "      <th></th>\n",
       "      <th>label</th>\n",
       "      <th>hash</th>\n",
       "      <th>disease_type</th>\n",
       "      <th>Brightness</th>\n",
       "      <th>Contrast</th>\n",
       "      <th>GLCM_Contrast</th>\n",
       "      <th>GLCM_Correlation</th>\n",
       "      <th>GLCM_Energy</th>\n",
       "      <th>GLCM_Homogeneity</th>\n",
       "      <th>Edge_Strength</th>\n",
       "      <th>...</th>\n",
       "      <th>PC679</th>\n",
       "      <th>PC680</th>\n",
       "      <th>PC681</th>\n",
       "      <th>PC682</th>\n",
       "      <th>PC683</th>\n",
       "      <th>PC684</th>\n",
       "      <th>PC685</th>\n",
       "      <th>PC686</th>\n",
       "      <th>PC687</th>\n",
       "      <th>PC688</th>\n",
       "    </tr>\n",
       "    <tr>\n",
       "      <th>image_path</th>\n",
       "      <th></th>\n",
       "      <th></th>\n",
       "      <th></th>\n",
       "      <th></th>\n",
       "      <th></th>\n",
       "      <th></th>\n",
       "      <th></th>\n",
       "      <th></th>\n",
       "      <th></th>\n",
       "      <th></th>\n",
       "      <th></th>\n",
       "      <th></th>\n",
       "      <th></th>\n",
       "      <th></th>\n",
       "      <th></th>\n",
       "      <th></th>\n",
       "      <th></th>\n",
       "      <th></th>\n",
       "      <th></th>\n",
       "      <th></th>\n",
       "      <th></th>\n",
       "    </tr>\n",
       "  </thead>\n",
       "  <tbody>\n",
       "    <tr>\n",
       "      <th>chest_xray/train/NORMAL/NORMAL2-IM-0927-0001.jpeg</th>\n",
       "      <td>NORMAL</td>\n",
       "      <td>37d9c9eae7fc6a4356149e071e886a52</td>\n",
       "      <td>NORMAL</td>\n",
       "      <td>124.391030</td>\n",
       "      <td>56.330762</td>\n",
       "      <td>72.311711</td>\n",
       "      <td>0.988587</td>\n",
       "      <td>0.020208</td>\n",
       "      <td>0.186281</td>\n",
       "      <td>359.797049</td>\n",
       "      <td>...</td>\n",
       "      <td>5.710115</td>\n",
       "      <td>-5.426740</td>\n",
       "      <td>0.858471</td>\n",
       "      <td>8.745654</td>\n",
       "      <td>-2.786414</td>\n",
       "      <td>7.305975</td>\n",
       "      <td>5.411600</td>\n",
       "      <td>-1.328738</td>\n",
       "      <td>-0.506833</td>\n",
       "      <td>-1.891944</td>\n",
       "    </tr>\n",
       "    <tr>\n",
       "      <th>chest_xray/train/NORMAL/NORMAL2-IM-1056-0001.jpeg</th>\n",
       "      <td>NORMAL</td>\n",
       "      <td>5492ab6358ac859e0090e2fce26e5804</td>\n",
       "      <td>NORMAL</td>\n",
       "      <td>115.710751</td>\n",
       "      <td>56.844688</td>\n",
       "      <td>18.847689</td>\n",
       "      <td>0.997077</td>\n",
       "      <td>0.081340</td>\n",
       "      <td>0.369210</td>\n",
       "      <td>239.319756</td>\n",
       "      <td>...</td>\n",
       "      <td>0.531881</td>\n",
       "      <td>-1.145440</td>\n",
       "      <td>-0.001716</td>\n",
       "      <td>-3.636283</td>\n",
       "      <td>2.365074</td>\n",
       "      <td>-1.042596</td>\n",
       "      <td>-8.813372</td>\n",
       "      <td>6.350190</td>\n",
       "      <td>-3.025702</td>\n",
       "      <td>-0.927665</td>\n",
       "    </tr>\n",
       "    <tr>\n",
       "      <th>chest_xray/train/NORMAL/IM-0427-0001.jpeg</th>\n",
       "      <td>NORMAL</td>\n",
       "      <td>dee0187150d3ad976e0c9af6dcee3cf3</td>\n",
       "      <td>NORMAL</td>\n",
       "      <td>133.991183</td>\n",
       "      <td>65.503709</td>\n",
       "      <td>17.790796</td>\n",
       "      <td>0.997924</td>\n",
       "      <td>0.083593</td>\n",
       "      <td>0.368610</td>\n",
       "      <td>240.476092</td>\n",
       "      <td>...</td>\n",
       "      <td>-0.281523</td>\n",
       "      <td>2.976487</td>\n",
       "      <td>-0.686639</td>\n",
       "      <td>-1.594396</td>\n",
       "      <td>-3.327478</td>\n",
       "      <td>2.298610</td>\n",
       "      <td>-0.044162</td>\n",
       "      <td>-1.378504</td>\n",
       "      <td>4.637707</td>\n",
       "      <td>-4.412302</td>\n",
       "    </tr>\n",
       "    <tr>\n",
       "      <th>chest_xray/train/NORMAL/NORMAL2-IM-1260-0001.jpeg</th>\n",
       "      <td>NORMAL</td>\n",
       "      <td>c38677052671989827c12a98f4bd1b1d</td>\n",
       "      <td>NORMAL</td>\n",
       "      <td>111.488999</td>\n",
       "      <td>68.965235</td>\n",
       "      <td>18.185661</td>\n",
       "      <td>0.998087</td>\n",
       "      <td>0.142800</td>\n",
       "      <td>0.396954</td>\n",
       "      <td>242.253012</td>\n",
       "      <td>...</td>\n",
       "      <td>4.985089</td>\n",
       "      <td>-2.175166</td>\n",
       "      <td>6.402116</td>\n",
       "      <td>-3.105779</td>\n",
       "      <td>2.653440</td>\n",
       "      <td>2.036490</td>\n",
       "      <td>-3.881019</td>\n",
       "      <td>1.110390</td>\n",
       "      <td>-1.826112</td>\n",
       "      <td>0.992524</td>\n",
       "    </tr>\n",
       "    <tr>\n",
       "      <th>chest_xray/train/NORMAL/IM-0656-0001-0001.jpeg</th>\n",
       "      <td>NORMAL</td>\n",
       "      <td>08eaa62c1628c0c1aaea38616c338041</td>\n",
       "      <td>NORMAL</td>\n",
       "      <td>148.148118</td>\n",
       "      <td>60.029570</td>\n",
       "      <td>17.674789</td>\n",
       "      <td>0.997543</td>\n",
       "      <td>0.053182</td>\n",
       "      <td>0.321715</td>\n",
       "      <td>231.020273</td>\n",
       "      <td>...</td>\n",
       "      <td>2.647096</td>\n",
       "      <td>2.504465</td>\n",
       "      <td>3.458917</td>\n",
       "      <td>1.370644</td>\n",
       "      <td>-2.563666</td>\n",
       "      <td>0.318677</td>\n",
       "      <td>-0.754188</td>\n",
       "      <td>-0.677803</td>\n",
       "      <td>2.465632</td>\n",
       "      <td>-0.665952</td>\n",
       "    </tr>\n",
       "  </tbody>\n",
       "</table>\n",
       "<p>5 rows × 700 columns</p>\n",
       "</div>"
      ],
      "text/plain": [
       "                                                    label  \\\n",
       "image_path                                                  \n",
       "chest_xray/train/NORMAL/NORMAL2-IM-0927-0001.jpeg  NORMAL   \n",
       "chest_xray/train/NORMAL/NORMAL2-IM-1056-0001.jpeg  NORMAL   \n",
       "chest_xray/train/NORMAL/IM-0427-0001.jpeg          NORMAL   \n",
       "chest_xray/train/NORMAL/NORMAL2-IM-1260-0001.jpeg  NORMAL   \n",
       "chest_xray/train/NORMAL/IM-0656-0001-0001.jpeg     NORMAL   \n",
       "\n",
       "                                                                               hash  \\\n",
       "image_path                                                                            \n",
       "chest_xray/train/NORMAL/NORMAL2-IM-0927-0001.jpeg  37d9c9eae7fc6a4356149e071e886a52   \n",
       "chest_xray/train/NORMAL/NORMAL2-IM-1056-0001.jpeg  5492ab6358ac859e0090e2fce26e5804   \n",
       "chest_xray/train/NORMAL/IM-0427-0001.jpeg          dee0187150d3ad976e0c9af6dcee3cf3   \n",
       "chest_xray/train/NORMAL/NORMAL2-IM-1260-0001.jpeg  c38677052671989827c12a98f4bd1b1d   \n",
       "chest_xray/train/NORMAL/IM-0656-0001-0001.jpeg     08eaa62c1628c0c1aaea38616c338041   \n",
       "\n",
       "                                                  disease_type  Brightness  \\\n",
       "image_path                                                                   \n",
       "chest_xray/train/NORMAL/NORMAL2-IM-0927-0001.jpeg       NORMAL  124.391030   \n",
       "chest_xray/train/NORMAL/NORMAL2-IM-1056-0001.jpeg       NORMAL  115.710751   \n",
       "chest_xray/train/NORMAL/IM-0427-0001.jpeg               NORMAL  133.991183   \n",
       "chest_xray/train/NORMAL/NORMAL2-IM-1260-0001.jpeg       NORMAL  111.488999   \n",
       "chest_xray/train/NORMAL/IM-0656-0001-0001.jpeg          NORMAL  148.148118   \n",
       "\n",
       "                                                    Contrast  GLCM_Contrast  \\\n",
       "image_path                                                                    \n",
       "chest_xray/train/NORMAL/NORMAL2-IM-0927-0001.jpeg  56.330762      72.311711   \n",
       "chest_xray/train/NORMAL/NORMAL2-IM-1056-0001.jpeg  56.844688      18.847689   \n",
       "chest_xray/train/NORMAL/IM-0427-0001.jpeg          65.503709      17.790796   \n",
       "chest_xray/train/NORMAL/NORMAL2-IM-1260-0001.jpeg  68.965235      18.185661   \n",
       "chest_xray/train/NORMAL/IM-0656-0001-0001.jpeg     60.029570      17.674789   \n",
       "\n",
       "                                                   GLCM_Correlation  \\\n",
       "image_path                                                            \n",
       "chest_xray/train/NORMAL/NORMAL2-IM-0927-0001.jpeg          0.988587   \n",
       "chest_xray/train/NORMAL/NORMAL2-IM-1056-0001.jpeg          0.997077   \n",
       "chest_xray/train/NORMAL/IM-0427-0001.jpeg                  0.997924   \n",
       "chest_xray/train/NORMAL/NORMAL2-IM-1260-0001.jpeg          0.998087   \n",
       "chest_xray/train/NORMAL/IM-0656-0001-0001.jpeg             0.997543   \n",
       "\n",
       "                                                   GLCM_Energy  \\\n",
       "image_path                                                       \n",
       "chest_xray/train/NORMAL/NORMAL2-IM-0927-0001.jpeg     0.020208   \n",
       "chest_xray/train/NORMAL/NORMAL2-IM-1056-0001.jpeg     0.081340   \n",
       "chest_xray/train/NORMAL/IM-0427-0001.jpeg             0.083593   \n",
       "chest_xray/train/NORMAL/NORMAL2-IM-1260-0001.jpeg     0.142800   \n",
       "chest_xray/train/NORMAL/IM-0656-0001-0001.jpeg        0.053182   \n",
       "\n",
       "                                                   GLCM_Homogeneity  \\\n",
       "image_path                                                            \n",
       "chest_xray/train/NORMAL/NORMAL2-IM-0927-0001.jpeg          0.186281   \n",
       "chest_xray/train/NORMAL/NORMAL2-IM-1056-0001.jpeg          0.369210   \n",
       "chest_xray/train/NORMAL/IM-0427-0001.jpeg                  0.368610   \n",
       "chest_xray/train/NORMAL/NORMAL2-IM-1260-0001.jpeg          0.396954   \n",
       "chest_xray/train/NORMAL/IM-0656-0001-0001.jpeg             0.321715   \n",
       "\n",
       "                                                   Edge_Strength  ...  \\\n",
       "image_path                                                        ...   \n",
       "chest_xray/train/NORMAL/NORMAL2-IM-0927-0001.jpeg     359.797049  ...   \n",
       "chest_xray/train/NORMAL/NORMAL2-IM-1056-0001.jpeg     239.319756  ...   \n",
       "chest_xray/train/NORMAL/IM-0427-0001.jpeg             240.476092  ...   \n",
       "chest_xray/train/NORMAL/NORMAL2-IM-1260-0001.jpeg     242.253012  ...   \n",
       "chest_xray/train/NORMAL/IM-0656-0001-0001.jpeg        231.020273  ...   \n",
       "\n",
       "                                                      PC679     PC680  \\\n",
       "image_path                                                              \n",
       "chest_xray/train/NORMAL/NORMAL2-IM-0927-0001.jpeg  5.710115 -5.426740   \n",
       "chest_xray/train/NORMAL/NORMAL2-IM-1056-0001.jpeg  0.531881 -1.145440   \n",
       "chest_xray/train/NORMAL/IM-0427-0001.jpeg         -0.281523  2.976487   \n",
       "chest_xray/train/NORMAL/NORMAL2-IM-1260-0001.jpeg  4.985089 -2.175166   \n",
       "chest_xray/train/NORMAL/IM-0656-0001-0001.jpeg     2.647096  2.504465   \n",
       "\n",
       "                                                      PC681     PC682  \\\n",
       "image_path                                                              \n",
       "chest_xray/train/NORMAL/NORMAL2-IM-0927-0001.jpeg  0.858471  8.745654   \n",
       "chest_xray/train/NORMAL/NORMAL2-IM-1056-0001.jpeg -0.001716 -3.636283   \n",
       "chest_xray/train/NORMAL/IM-0427-0001.jpeg         -0.686639 -1.594396   \n",
       "chest_xray/train/NORMAL/NORMAL2-IM-1260-0001.jpeg  6.402116 -3.105779   \n",
       "chest_xray/train/NORMAL/IM-0656-0001-0001.jpeg     3.458917  1.370644   \n",
       "\n",
       "                                                      PC683     PC684  \\\n",
       "image_path                                                              \n",
       "chest_xray/train/NORMAL/NORMAL2-IM-0927-0001.jpeg -2.786414  7.305975   \n",
       "chest_xray/train/NORMAL/NORMAL2-IM-1056-0001.jpeg  2.365074 -1.042596   \n",
       "chest_xray/train/NORMAL/IM-0427-0001.jpeg         -3.327478  2.298610   \n",
       "chest_xray/train/NORMAL/NORMAL2-IM-1260-0001.jpeg  2.653440  2.036490   \n",
       "chest_xray/train/NORMAL/IM-0656-0001-0001.jpeg    -2.563666  0.318677   \n",
       "\n",
       "                                                      PC685     PC686  \\\n",
       "image_path                                                              \n",
       "chest_xray/train/NORMAL/NORMAL2-IM-0927-0001.jpeg  5.411600 -1.328738   \n",
       "chest_xray/train/NORMAL/NORMAL2-IM-1056-0001.jpeg -8.813372  6.350190   \n",
       "chest_xray/train/NORMAL/IM-0427-0001.jpeg         -0.044162 -1.378504   \n",
       "chest_xray/train/NORMAL/NORMAL2-IM-1260-0001.jpeg -3.881019  1.110390   \n",
       "chest_xray/train/NORMAL/IM-0656-0001-0001.jpeg    -0.754188 -0.677803   \n",
       "\n",
       "                                                      PC687     PC688  \n",
       "image_path                                                             \n",
       "chest_xray/train/NORMAL/NORMAL2-IM-0927-0001.jpeg -0.506833 -1.891944  \n",
       "chest_xray/train/NORMAL/NORMAL2-IM-1056-0001.jpeg -3.025702 -0.927665  \n",
       "chest_xray/train/NORMAL/IM-0427-0001.jpeg          4.637707 -4.412302  \n",
       "chest_xray/train/NORMAL/NORMAL2-IM-1260-0001.jpeg -1.826112  0.992524  \n",
       "chest_xray/train/NORMAL/IM-0656-0001-0001.jpeg     2.465632 -0.665952  \n",
       "\n",
       "[5 rows x 700 columns]"
      ]
     },
     "execution_count": 7,
     "metadata": {},
     "output_type": "execute_result"
    }
   ],
   "source": [
    "train_final.head()"
   ]
  },
  {
   "cell_type": "code",
   "execution_count": 9,
   "id": "2b4acbcf-1a48-4b42-9777-f699a902bc00",
   "metadata": {},
   "outputs": [
    {
     "name": "stdout",
     "output_type": "stream",
     "text": [
      "Training set: (5190, 697), Labels: (5190,)\n",
      "Test set: (618, 697), Labels: (618,)\n",
      "Validation set: (16, 697), Labels: (16,)\n"
     ]
    }
   ],
   "source": [
    "# Define features (drop label, hash, disease_type)\n",
    "drop_columns = [\"label\", \"hash\", \"disease_type\"]\n",
    "X_train = train_final.drop(columns=drop_columns)\n",
    "y_train = train_final[\"label\"]\n",
    "\n",
    "X_test = test_final.drop(columns=drop_columns)\n",
    "y_test = test_final[\"label\"]\n",
    "\n",
    "X_val = val_final.drop(columns=drop_columns)\n",
    "y_val = val_final[\"label\"]\n",
    "\n",
    "# Check data shape\n",
    "print(f\"Training set: {X_train.shape}, Labels: {y_train.shape}\")\n",
    "print(f\"Test set: {X_test.shape}, Labels: {y_test.shape}\")\n",
    "print(f\"Validation set: {X_val.shape}, Labels: {y_val.shape}\")"
   ]
  },
  {
   "cell_type": "markdown",
   "id": "92b8a890-69e2-4976-9cef-9efa51446103",
   "metadata": {},
   "source": [
    "### Randomized Search Random Forest"
   ]
  },
  {
   "cell_type": "code",
   "execution_count": 11,
   "id": "984f8e98-1bf5-4f15-9c6a-fcee5bc51913",
   "metadata": {},
   "outputs": [
    {
     "name": "stdout",
     "output_type": "stream",
     "text": [
      "Random Forest Accuracy: 0.6893\n"
     ]
    }
   ],
   "source": [
    "# Initialize and train Random Forest model\n",
    "rf_clf = RandomForestClassifier(random_state=42)\n",
    "rf_clf.fit(X_train, y_train)\n",
    "\n",
    "# Make predictions\n",
    "y_pred = rf_clf.predict(X_test)\n",
    "\n",
    "# Evaluate accuracy\n",
    "print(f\"Random Forest Accuracy: {rf_clf.score(X_test, y_test):.4f}\")"
   ]
  },
  {
   "cell_type": "code",
   "execution_count": 13,
   "id": "1845a9b0-fd1a-463b-8704-676222eb493f",
   "metadata": {
    "scrolled": true
   },
   "outputs": [
    {
     "name": "stdout",
     "output_type": "stream",
     "text": [
      "Fitting 5 folds for each of 20 candidates, totalling 100 fits\n",
      "[CV] END bootstrap=True, max_depth=None, max_features=log2, min_samples_leaf=5, min_samples_split=8, n_estimators=300; total time=  10.4s\n",
      "[CV] END bootstrap=True, max_depth=30, max_features=None, min_samples_leaf=5, min_samples_split=18, n_estimators=300; total time= 7.7min\n",
      "[CV] END bootstrap=True, max_depth=30, max_features=None, min_samples_leaf=1, min_samples_split=10, n_estimators=450; total time=17.3min\n",
      "[CV] END bootstrap=True, max_depth=None, max_features=log2, min_samples_leaf=5, min_samples_split=8, n_estimators=300; total time=   9.9s\n",
      "[CV] END bootstrap=True, max_depth=30, max_features=None, min_samples_leaf=5, min_samples_split=18, n_estimators=300; total time= 7.9min\n",
      "[CV] END bootstrap=True, max_depth=10, max_features=sqrt, min_samples_leaf=3, min_samples_split=16, n_estimators=200; total time=  11.9s\n",
      "[CV] END bootstrap=True, max_depth=10, max_features=sqrt, min_samples_leaf=3, min_samples_split=16, n_estimators=200; total time=  11.8s\n",
      "[CV] END bootstrap=True, max_depth=10, max_features=sqrt, min_samples_leaf=3, min_samples_split=16, n_estimators=200; total time=  11.7s\n",
      "[CV] END bootstrap=True, max_depth=20, max_features=log2, min_samples_leaf=7, min_samples_split=8, n_estimators=350; total time=  10.6s\n",
      "[CV] END bootstrap=True, max_depth=20, max_features=log2, min_samples_leaf=7, min_samples_split=8, n_estimators=350; total time=  10.2s\n",
      "[CV] END bootstrap=True, max_depth=10, max_features=None, min_samples_leaf=1, min_samples_split=14, n_estimators=150; total time= 3.8min\n",
      "[CV] END bootstrap=True, max_depth=10, max_features=None, min_samples_leaf=1, min_samples_split=14, n_estimators=150; total time= 3.8min\n",
      "[CV] END bootstrap=True, max_depth=None, max_features=None, min_samples_leaf=5, min_samples_split=4, n_estimators=350; total time= 9.0min\n",
      "[CV] END bootstrap=True, max_depth=10, max_features=None, min_samples_leaf=3, min_samples_split=18, n_estimators=300; total time= 7.3min\n",
      "[CV] END bootstrap=True, max_depth=30, max_features=None, min_samples_leaf=9, min_samples_split=2, n_estimators=250; total time= 5.3min\n",
      "[CV] END bootstrap=True, max_depth=10, max_features=None, min_samples_leaf=1, min_samples_split=14, n_estimators=150; total time= 3.8min\n",
      "[CV] END bootstrap=True, max_depth=None, max_features=None, min_samples_leaf=5, min_samples_split=4, n_estimators=350; total time= 9.3min\n",
      "[CV] END bootstrap=True, max_depth=30, max_features=None, min_samples_leaf=5, min_samples_split=18, n_estimators=300; total time= 7.7min\n",
      "[CV] END bootstrap=True, max_depth=30, max_features=None, min_samples_leaf=1, min_samples_split=10, n_estimators=450; total time=15.4min\n",
      "[CV] END bootstrap=True, max_depth=30, max_features=None, min_samples_leaf=1, min_samples_split=8, n_estimators=100; total time= 3.2min\n",
      "[CV] END bootstrap=True, max_depth=10, max_features=None, min_samples_leaf=3, min_samples_split=18, n_estimators=300; total time= 7.3min\n",
      "[CV] END bootstrap=True, max_depth=30, max_features=None, min_samples_leaf=9, min_samples_split=2, n_estimators=250; total time= 5.5min\n",
      "[CV] END bootstrap=True, max_depth=30, max_features=sqrt, min_samples_leaf=7, min_samples_split=4, n_estimators=450; total time=  34.0s\n",
      "[CV] END bootstrap=True, max_depth=30, max_features=sqrt, min_samples_leaf=7, min_samples_split=4, n_estimators=450; total time=  33.6s\n",
      "[CV] END bootstrap=True, max_depth=30, max_features=sqrt, min_samples_leaf=7, min_samples_split=16, n_estimators=150; total time=  11.2s\n",
      "[CV] END bootstrap=True, max_depth=20, max_features=sqrt, min_samples_leaf=3, min_samples_split=10, n_estimators=100; total time=   8.0s\n",
      "[CV] END bootstrap=True, max_depth=None, max_features=sqrt, min_samples_leaf=5, min_samples_split=2, n_estimators=150; total time=  11.8s\n",
      "[CV] END bootstrap=True, max_depth=None, max_features=sqrt, min_samples_leaf=5, min_samples_split=2, n_estimators=150; total time=  11.8s\n",
      "[CV] END bootstrap=True, max_depth=None, max_features=None, min_samples_leaf=5, min_samples_split=4, n_estimators=350; total time= 8.7min\n",
      "[CV] END bootstrap=True, max_depth=30, max_features=None, min_samples_leaf=1, min_samples_split=8, n_estimators=100; total time= 3.4min\n",
      "[CV] END bootstrap=True, max_depth=10, max_features=None, min_samples_leaf=3, min_samples_split=18, n_estimators=300; total time= 7.4min\n",
      "[CV] END bootstrap=True, max_depth=30, max_features=None, min_samples_leaf=1, min_samples_split=10, n_estimators=450; total time=15.9min\n",
      "[CV] END bootstrap=True, max_depth=30, max_features=None, min_samples_leaf=1, min_samples_split=8, n_estimators=100; total time= 3.6min\n",
      "[CV] END bootstrap=True, max_depth=None, max_features=log2, min_samples_leaf=5, min_samples_split=8, n_estimators=300; total time=  10.5s\n",
      "[CV] END bootstrap=True, max_depth=10, max_features=log2, min_samples_leaf=3, min_samples_split=10, n_estimators=200; total time=   4.3s\n",
      "[CV] END bootstrap=True, max_depth=10, max_features=log2, min_samples_leaf=3, min_samples_split=10, n_estimators=200; total time=   4.3s\n",
      "[CV] END bootstrap=True, max_depth=10, max_features=log2, min_samples_leaf=3, min_samples_split=10, n_estimators=200; total time=   4.3s\n",
      "[CV] END bootstrap=True, max_depth=10, max_features=log2, min_samples_leaf=3, min_samples_split=10, n_estimators=200; total time=   4.1s\n",
      "[CV] END bootstrap=True, max_depth=10, max_features=log2, min_samples_leaf=3, min_samples_split=10, n_estimators=200; total time=   4.4s\n",
      "[CV] END bootstrap=True, max_depth=None, max_features=sqrt, min_samples_leaf=5, min_samples_split=16, n_estimators=300; total time=  23.3s\n",
      "[CV] END bootstrap=True, max_depth=None, max_features=sqrt, min_samples_leaf=5, min_samples_split=16, n_estimators=300; total time=  23.2s\n",
      "[CV] END bootstrap=True, max_depth=None, max_features=sqrt, min_samples_leaf=5, min_samples_split=16, n_estimators=300; total time=  23.1s\n",
      "[CV] END bootstrap=True, max_depth=None, max_features=sqrt, min_samples_leaf=5, min_samples_split=16, n_estimators=300; total time=  24.2s\n",
      "[CV] END bootstrap=True, max_depth=None, max_features=sqrt, min_samples_leaf=5, min_samples_split=16, n_estimators=300; total time=  23.9s\n",
      "[CV] END bootstrap=True, max_depth=30, max_features=None, min_samples_leaf=9, min_samples_split=2, n_estimators=250; total time= 5.4min\n",
      "[CV] END bootstrap=True, max_depth=30, max_features=None, min_samples_leaf=1, min_samples_split=10, n_estimators=450; total time=16.4min\n",
      "[CV] END bootstrap=True, max_depth=30, max_features=log2, min_samples_leaf=1, min_samples_split=10, n_estimators=400; total time=  15.6s\n",
      "[CV] END bootstrap=True, max_depth=20, max_features=None, min_samples_leaf=7, min_samples_split=8, n_estimators=450; total time= 8.0min\n",
      "[CV] END bootstrap=True, max_depth=None, max_features=log2, min_samples_leaf=5, min_samples_split=8, n_estimators=300; total time=  10.2s\n",
      "[CV] END bootstrap=True, max_depth=30, max_features=None, min_samples_leaf=5, min_samples_split=18, n_estimators=300; total time= 8.0min\n",
      "[CV] END bootstrap=True, max_depth=10, max_features=sqrt, min_samples_leaf=3, min_samples_split=16, n_estimators=200; total time=  11.8s\n",
      "[CV] END bootstrap=True, max_depth=10, max_features=sqrt, min_samples_leaf=3, min_samples_split=16, n_estimators=200; total time=  11.8s\n",
      "[CV] END bootstrap=True, max_depth=20, max_features=log2, min_samples_leaf=7, min_samples_split=8, n_estimators=350; total time=  10.6s\n",
      "[CV] END bootstrap=True, max_depth=20, max_features=log2, min_samples_leaf=7, min_samples_split=8, n_estimators=350; total time=  10.4s\n",
      "[CV] END bootstrap=True, max_depth=20, max_features=log2, min_samples_leaf=7, min_samples_split=8, n_estimators=350; total time=  10.3s\n",
      "[CV] END bootstrap=True, max_depth=10, max_features=None, min_samples_leaf=1, min_samples_split=14, n_estimators=150; total time= 3.8min\n",
      "[CV] END bootstrap=True, max_depth=30, max_features=sqrt, min_samples_leaf=7, min_samples_split=4, n_estimators=450; total time=  33.4s\n",
      "[CV] END bootstrap=True, max_depth=30, max_features=sqrt, min_samples_leaf=7, min_samples_split=4, n_estimators=450; total time=  34.1s\n",
      "[CV] END bootstrap=True, max_depth=30, max_features=sqrt, min_samples_leaf=7, min_samples_split=16, n_estimators=150; total time=  11.4s\n",
      "[CV] END bootstrap=True, max_depth=20, max_features=sqrt, min_samples_leaf=3, min_samples_split=10, n_estimators=100; total time=   7.9s\n",
      "[CV] END bootstrap=True, max_depth=None, max_features=sqrt, min_samples_leaf=5, min_samples_split=2, n_estimators=150; total time=  11.5s\n",
      "[CV] END bootstrap=True, max_depth=None, max_features=sqrt, min_samples_leaf=5, min_samples_split=2, n_estimators=150; total time=  11.8s\n",
      "[CV] END bootstrap=True, max_depth=None, max_features=None, min_samples_leaf=5, min_samples_split=4, n_estimators=350; total time= 9.2min\n",
      "[CV] END bootstrap=True, max_depth=20, max_features=sqrt, min_samples_leaf=1, min_samples_split=2, n_estimators=200; total time=  17.6s\n",
      "[CV] END bootstrap=True, max_depth=30, max_features=log2, min_samples_leaf=1, min_samples_split=10, n_estimators=400; total time=  15.3s\n",
      "[CV] END bootstrap=True, max_depth=20, max_features=None, min_samples_leaf=7, min_samples_split=8, n_estimators=450; total time= 8.3min\n",
      "[CV] END bootstrap=True, max_depth=10, max_features=None, min_samples_leaf=3, min_samples_split=18, n_estimators=300; total time= 7.3min\n",
      "[CV] END bootstrap=True, max_depth=30, max_features=None, min_samples_leaf=9, min_samples_split=2, n_estimators=250; total time= 5.6min\n",
      "[CV] END bootstrap=True, max_depth=30, max_features=sqrt, min_samples_leaf=7, min_samples_split=4, n_estimators=450; total time=  33.6s\n",
      "[CV] END bootstrap=True, max_depth=30, max_features=sqrt, min_samples_leaf=7, min_samples_split=16, n_estimators=150; total time=  11.0s\n",
      "[CV] END bootstrap=True, max_depth=30, max_features=sqrt, min_samples_leaf=7, min_samples_split=16, n_estimators=150; total time=  11.2s\n",
      "[CV] END bootstrap=True, max_depth=30, max_features=sqrt, min_samples_leaf=7, min_samples_split=16, n_estimators=150; total time=  11.2s\n",
      "[CV] END bootstrap=True, max_depth=20, max_features=sqrt, min_samples_leaf=3, min_samples_split=10, n_estimators=100; total time=   7.9s\n",
      "[CV] END bootstrap=True, max_depth=20, max_features=sqrt, min_samples_leaf=3, min_samples_split=10, n_estimators=100; total time=   7.9s\n",
      "[CV] END bootstrap=True, max_depth=20, max_features=sqrt, min_samples_leaf=3, min_samples_split=10, n_estimators=100; total time=   8.3s\n",
      "[CV] END bootstrap=True, max_depth=None, max_features=sqrt, min_samples_leaf=5, min_samples_split=2, n_estimators=150; total time=  11.4s\n",
      "[CV] END bootstrap=True, max_depth=None, max_features=None, min_samples_leaf=5, min_samples_split=4, n_estimators=350; total time= 8.9min\n",
      "[CV] END bootstrap=True, max_depth=10, max_features=log2, min_samples_leaf=3, min_samples_split=12, n_estimators=200; total time=   4.2s\n",
      "[CV] END bootstrap=True, max_depth=10, max_features=log2, min_samples_leaf=3, min_samples_split=12, n_estimators=200; total time=   4.3s\n",
      "[CV] END bootstrap=True, max_depth=10, max_features=log2, min_samples_leaf=3, min_samples_split=12, n_estimators=200; total time=   4.2s\n",
      "[CV] END bootstrap=True, max_depth=20, max_features=sqrt, min_samples_leaf=1, min_samples_split=2, n_estimators=200; total time=  18.0s\n",
      "[CV] END bootstrap=True, max_depth=20, max_features=sqrt, min_samples_leaf=1, min_samples_split=2, n_estimators=200; total time=  17.9s\n",
      "[CV] END bootstrap=True, max_depth=30, max_features=log2, min_samples_leaf=1, min_samples_split=10, n_estimators=400; total time=  15.3s\n",
      "[CV] END bootstrap=True, max_depth=20, max_features=None, min_samples_leaf=7, min_samples_split=8, n_estimators=450; total time= 8.2min\n",
      "[CV] END bootstrap=True, max_depth=None, max_features=log2, min_samples_leaf=5, min_samples_split=8, n_estimators=300; total time=  10.1s\n",
      "[CV] END bootstrap=True, max_depth=30, max_features=None, min_samples_leaf=5, min_samples_split=18, n_estimators=300; total time= 7.5min\n",
      "[CV] END bootstrap=True, max_depth=30, max_features=None, min_samples_leaf=1, min_samples_split=10, n_estimators=450; total time=16.6min\n",
      "[CV] END bootstrap=True, max_depth=30, max_features=log2, min_samples_leaf=1, min_samples_split=10, n_estimators=400; total time=  15.4s\n",
      "[CV] END bootstrap=True, max_depth=20, max_features=None, min_samples_leaf=7, min_samples_split=8, n_estimators=450; total time= 8.4min\n",
      "[CV] END bootstrap=True, max_depth=10, max_features=None, min_samples_leaf=3, min_samples_split=18, n_estimators=300; total time= 7.4min\n",
      "[CV] END bootstrap=True, max_depth=30, max_features=None, min_samples_leaf=9, min_samples_split=2, n_estimators=250; total time= 5.5min\n",
      "[CV] END bootstrap=True, max_depth=10, max_features=None, min_samples_leaf=1, min_samples_split=14, n_estimators=150; total time= 3.8min\n",
      "[CV] END bootstrap=True, max_depth=30, max_features=None, min_samples_leaf=1, min_samples_split=8, n_estimators=100; total time= 3.4min\n",
      "[CV] END bootstrap=True, max_depth=30, max_features=None, min_samples_leaf=1, min_samples_split=8, n_estimators=100; total time= 3.6min\n",
      "[CV] END bootstrap=True, max_depth=10, max_features=log2, min_samples_leaf=3, min_samples_split=12, n_estimators=200; total time=   4.5s\n",
      "[CV] END bootstrap=True, max_depth=10, max_features=log2, min_samples_leaf=3, min_samples_split=12, n_estimators=200; total time=   4.4s\n",
      "[CV] END bootstrap=True, max_depth=20, max_features=sqrt, min_samples_leaf=1, min_samples_split=2, n_estimators=200; total time=  17.5s\n",
      "[CV] END bootstrap=True, max_depth=20, max_features=sqrt, min_samples_leaf=1, min_samples_split=2, n_estimators=200; total time=  18.0s\n",
      "[CV] END bootstrap=True, max_depth=30, max_features=log2, min_samples_leaf=1, min_samples_split=10, n_estimators=400; total time=  15.8s\n",
      "[CV] END bootstrap=True, max_depth=20, max_features=None, min_samples_leaf=7, min_samples_split=8, n_estimators=450; total time= 8.4min\n",
      "Best parameters found:  {'n_estimators': 450, 'min_samples_split': 10, 'min_samples_leaf': 1, 'max_features': None, 'max_depth': 30, 'bootstrap': True}\n",
      "Best accuracy:  0.9614643545279383\n",
      "Best Random Forest Test Accuracy: 0.6942\n"
     ]
    }
   ],
   "source": [
    "# Define parameter distributions\n",
    "param_dist = {\n",
    "    'n_estimators': np.arange(100, 500, 50),  # Range of trees\n",
    "    'max_depth': [10, 20, 30, None], \n",
    "    'min_samples_split': np.arange(2, 20, 2),\n",
    "    'min_samples_leaf': np.arange(1, 10, 2),\n",
    "    'max_features': ['sqrt', 'log2', None], \n",
    "    'bootstrap': [True]\n",
    "}\n",
    "\n",
    "# Initialize RandomizedSearchCV\n",
    "random_search = RandomizedSearchCV(\n",
    "    estimator=rf_clf,\n",
    "    param_distributions=param_dist,\n",
    "    n_iter=20,  # Number of random samples\n",
    "    scoring='accuracy',\n",
    "    cv=5,\n",
    "    verbose=2,\n",
    "    random_state=42,\n",
    "    n_jobs=-1\n",
    ")\n",
    "\n",
    "# Run Randomized Search\n",
    "random_search.fit(X_train, y_train)\n",
    "\n",
    "# Best parameters\n",
    "print(\"Best parameters found: \", random_search.best_params_)\n",
    "print(\"Best accuracy: \", random_search.best_score_)\n",
    "\n",
    "# Evaluate on test set\n",
    "best_rf = random_search.best_estimator_\n",
    "test_accuracy = best_rf.score(X_test, y_test)\n",
    "print(f\"Best Random Forest Test Accuracy: {test_accuracy:.4f}\")"
   ]
  },
  {
   "cell_type": "code",
   "execution_count": 16,
   "id": "6311b335-07e9-4f7f-bb38-32e53fb46748",
   "metadata": {},
   "outputs": [
    {
     "data": {
      "image/png": "[encoded data removed]",
      "text/plain": [
       "<Figure size 600x500 with 2 Axes>"
      ]
     },
     "metadata": {},
     "output_type": "display_data"
    }
   ],
   "source": [
    "y_pred_best_rf = best_rf.predict(X_test)\n",
    "\n",
    "# Compute confusion matrix\n",
    "cm_best_rf = confusion_matrix(y_test, y_pred_best_rf)\n",
    "\n",
    "# Plot the confusion matrix\n",
    "plt.figure(figsize=(6, 5))\n",
    "sns.heatmap(cm_best_rf, annot=True, fmt=\"d\", cmap=\"Blues\", xticklabels=best_rf.classes_, yticklabels=best_rf.classes_)\n",
    "plt.xlabel(\"Predicted Label\")\n",
    "plt.ylabel(\"True Label\")\n",
    "plt.title(\"Confusion Matrix for Best Random Forest\")\n",
    "plt.savefig(\"images/Confusion_Matrix_for_Best_Random_Forest.png\")\n",
    "plt.show()"
   ]
  },
  {
   "cell_type": "code",
   "execution_count": null,
   "id": "9bfc2605-1a3a-44cd-aec1-69865fa9352d",
   "metadata": {},
   "outputs": [],
   "source": [
    "# Print classification report\n",
    "print(\"Classification Report:\\n\", classification_report(y_test, y_pred_best_rf))"
   ]
  },
  {
   "cell_type": "markdown",
   "id": "b9370ce0-0781-42fa-9f6d-3b032b4f4dcb",
   "metadata": {},
   "source": [
    "Best Random Forest Accuracy, Precision, Recall, and F1-Score:\n",
    "\n",
    "- **TP (True Positives - Pneumonia correctly identfied):** 386\n",
    "- **FN (False Negatives - Pneumonia misclassified as Normal):** 1\n",
    "- **TN (True Negatives - Normal correctly identified):** 43\n",
    "- **FP (False Positives - Normal misclassified as Pneumonia):** 188\n",
    "\n",
    "$\\text{Accuracy} = \\frac{\\text{TP+TN}}{\\text{TP+FP+TN+FN}}$\n",
    "$ = \\frac{386+43}{386+188+43+1} = \\frac{429}{618} \\approx 0.6942$\n",
    "\n",
    "$\\text{Recall} =  \\frac{\\text{TP}}{\\text{TP+FN}}$\n",
    "$ = \\frac{386}{386+1}=\\frac{386}{387} \\approx 0.9974$\n",
    "\n",
    "$\\text{Precision} = \\frac{\\text{TP}}{\\text{TP+FP}}$\n",
    "$ = \\frac{386}{386+188}=\\frac{386}{574} \\approx 0.6727$\n",
    "\n",
    "$\\text{F1-Score} = 2 \\times \\frac{\\text{Precision}\\times \\text{Recall}}{\\text{Precision + Recall}}$\n",
    "$ = 2 \\times \\frac{0.6727 \\times 0.9974}{0.6727+0.9974} = 2 \\times \\frac{0.6710}{1.6701} \\approx 0.8037$"
   ]
  },
  {
   "cell_type": "markdown",
   "id": "0232ff26-b804-4030-9566-5a2de57852aa",
   "metadata": {},
   "source": [
    "### Support Vector Machine (SVM)"
   ]
  },
  {
   "cell_type": "code",
   "execution_count": 35,
   "id": "ea3ec3f1-c816-4c74-b11b-861cfff09fee",
   "metadata": {},
   "outputs": [],
   "source": [
    "#Instantiate scaler\n",
    "svm_scaler = StandardScaler()\n",
    "\n",
    "# Fit on the train data and transform test and validation sets.\n",
    "X_train_scaled = svm_scaler.fit_transform(X_train)\n",
    "X_test_scaled = svm_scaler.transform(X_test)\n",
    "X_val_scaled = svm_scaler.transform(X_val)"
   ]
  },
  {
   "cell_type": "code",
   "execution_count": 37,
   "id": "b192150c-af43-4a25-b7a9-f1ac5e74ff91",
   "metadata": {},
   "outputs": [
    {
     "data": {
      "text/html": [
       "<style>#sk-container-id-2 {\n",
       "  /* Definition of color scheme common for light and dark mode */\n",
       "  --sklearn-color-text: black;\n",
       "  --sklearn-color-line: gray;\n",
       "  /* Definition of color scheme for unfitted estimators */\n",
       "  --sklearn-color-unfitted-level-0: #fff5e6;\n",
       "  --sklearn-color-unfitted-level-1: #f6e4d2;\n",
       "  --sklearn-color-unfitted-level-2: #ffe0b3;\n",
       "  --sklearn-color-unfitted-level-3: chocolate;\n",
       "  /* Definition of color scheme for fitted estimators */\n",
       "  --sklearn-color-fitted-level-0: #f0f8ff;\n",
       "  --sklearn-color-fitted-level-1: #d4ebff;\n",
       "  --sklearn-color-fitted-level-2: #b3dbfd;\n",
       "  --sklearn-color-fitted-level-3: cornflowerblue;\n",
       "\n",
       "  /* Specific color for light theme */\n",
       "  --sklearn-color-text-on-default-background: var(--sg-text-color, var(--theme-code-foreground, var(--jp-content-font-color1, black)));\n",
       "  --sklearn-color-background: var(--sg-background-color, var(--theme-background, var(--jp-layout-color0, white)));\n",
       "  --sklearn-color-border-box: var(--sg-text-color, var(--theme-code-foreground, var(--jp-content-font-color1, black)));\n",
       "  --sklearn-color-icon: #696969;\n",
       "\n",
       "  @media (prefers-color-scheme: dark) {\n",
       "    /* Redefinition of color scheme for dark theme */\n",
       "    --sklearn-color-text-on-default-background: var(--sg-text-color, var(--theme-code-foreground, var(--jp-content-font-color1, white)));\n",
       "    --sklearn-color-background: var(--sg-background-color, var(--theme-background, var(--jp-layout-color0, #111)));\n",
       "    --sklearn-color-border-box: var(--sg-text-color, var(--theme-code-foreground, var(--jp-content-font-color1, white)));\n",
       "    --sklearn-color-icon: #878787;\n",
       "  }\n",
       "}\n",
       "\n",
       "#sk-container-id-2 {\n",
       "  color: var(--sklearn-color-text);\n",
       "}\n",
       "\n",
       "#sk-container-id-2 pre {\n",
       "  padding: 0;\n",
       "}\n",
       "\n",
       "#sk-container-id-2 input.sk-hidden--visually {\n",
       "  border: 0;\n",
       "  clip: rect(1px 1px 1px 1px);\n",
       "  clip: rect(1px, 1px, 1px, 1px);\n",
       "  height: 1px;\n",
       "  margin: -1px;\n",
       "  overflow: hidden;\n",
       "  padding: 0;\n",
       "  position: absolute;\n",
       "  width: 1px;\n",
       "}\n",
       "\n",
       "#sk-container-id-2 div.sk-dashed-wrapped {\n",
       "  border: 1px dashed var(--sklearn-color-line);\n",
       "  margin: 0 0.4em 0.5em 0.4em;\n",
       "  box-sizing: border-box;\n",
       "  padding-bottom: 0.4em;\n",
       "  background-color: var(--sklearn-color-background);\n",
       "}\n",
       "\n",
       "#sk-container-id-2 div.sk-container {\n",
       "  /* jupyter's `normalize.less` sets `[hidden] { display: none; }`\n",
       "     but bootstrap.min.css set `[hidden] { display: none !important; }`\n",
       "     so we also need the `!important` here to be able to override the\n",
       "     default hidden behavior on the sphinx rendered scikit-learn.org.\n",
       "     See: https://github.com/scikit-learn/scikit-learn/issues/21755 */\n",
       "  display: inline-block !important;\n",
       "  position: relative;\n",
       "}\n",
       "\n",
       "#sk-container-id-2 div.sk-text-repr-fallback {\n",
       "  display: none;\n",
       "}\n",
       "\n",
       "div.sk-parallel-item,\n",
       "div.sk-serial,\n",
       "div.sk-item {\n",
       "  /* draw centered vertical line to link estimators */\n",
       "  background-image: linear-gradient(var(--sklearn-color-text-on-default-background), var(--sklearn-color-text-on-default-background));\n",
       "  background-size: 2px 100%;\n",
       "  background-repeat: no-repeat;\n",
       "  background-position: center center;\n",
       "}\n",
       "\n",
       "/* Parallel-specific style estimator block */\n",
       "\n",
       "#sk-container-id-2 div.sk-parallel-item::after {\n",
       "  content: \"\";\n",
       "  width: 100%;\n",
       "  border-bottom: 2px solid var(--sklearn-color-text-on-default-background);\n",
       "  flex-grow: 1;\n",
       "}\n",
       "\n",
       "#sk-container-id-2 div.sk-parallel {\n",
       "  display: flex;\n",
       "  align-items: stretch;\n",
       "  justify-content: center;\n",
       "  background-color: var(--sklearn-color-background);\n",
       "  position: relative;\n",
       "}\n",
       "\n",
       "#sk-container-id-2 div.sk-parallel-item {\n",
       "  display: flex;\n",
       "  flex-direction: column;\n",
       "}\n",
       "\n",
       "#sk-container-id-2 div.sk-parallel-item:first-child::after {\n",
       "  align-self: flex-end;\n",
       "  width: 50%;\n",
       "}\n",
       "\n",
       "#sk-container-id-2 div.sk-parallel-item:last-child::after {\n",
       "  align-self: flex-start;\n",
       "  width: 50%;\n",
       "}\n",
       "\n",
       "#sk-container-id-2 div.sk-parallel-item:only-child::after {\n",
       "  width: 0;\n",
       "}\n",
       "\n",
       "/* Serial-specific style estimator block */\n",
       "\n",
       "#sk-container-id-2 div.sk-serial {\n",
       "  display: flex;\n",
       "  flex-direction: column;\n",
       "  align-items: center;\n",
       "  background-color: var(--sklearn-color-background);\n",
       "  padding-right: 1em;\n",
       "  padding-left: 1em;\n",
       "}\n",
       "\n",
       "\n",
       "/* Toggleable style: style used for estimator/Pipeline/ColumnTransformer box that is\n",
       "clickable and can be expanded/collapsed.\n",
       "- Pipeline and ColumnTransformer use this feature and define the default style\n",
       "- Estimators will overwrite some part of the style using the `sk-estimator` class\n",
       "*/\n",
       "\n",
       "/* Pipeline and ColumnTransformer style (default) */\n",
       "\n",
       "#sk-container-id-2 div.sk-toggleable {\n",
       "  /* Default theme specific background. It is overwritten whether we have a\n",
       "  specific estimator or a Pipeline/ColumnTransformer */\n",
       "  background-color: var(--sklearn-color-background);\n",
       "}\n",
       "\n",
       "/* Toggleable label */\n",
       "#sk-container-id-2 label.sk-toggleable__label {\n",
       "  cursor: pointer;\n",
       "  display: block;\n",
       "  width: 100%;\n",
       "  margin-bottom: 0;\n",
       "  padding: 0.5em;\n",
       "  box-sizing: border-box;\n",
       "  text-align: center;\n",
       "}\n",
       "\n",
       "#sk-container-id-2 label.sk-toggleable__label-arrow:before {\n",
       "  /* Arrow on the left of the label */\n",
       "  content: \"▸\";\n",
       "  float: left;\n",
       "  margin-right: 0.25em;\n",
       "  color: var(--sklearn-color-icon);\n",
       "}\n",
       "\n",
       "#sk-container-id-2 label.sk-toggleable__label-arrow:hover:before {\n",
       "  color: var(--sklearn-color-text);\n",
       "}\n",
       "\n",
       "/* Toggleable content - dropdown */\n",
       "\n",
       "#sk-container-id-2 div.sk-toggleable__content {\n",
       "  max-height: 0;\n",
       "  max-width: 0;\n",
       "  overflow: hidden;\n",
       "  text-align: left;\n",
       "  /* unfitted */\n",
       "  background-color: var(--sklearn-color-unfitted-level-0);\n",
       "}\n",
       "\n",
       "#sk-container-id-2 div.sk-toggleable__content.fitted {\n",
       "  /* fitted */\n",
       "  background-color: var(--sklearn-color-fitted-level-0);\n",
       "}\n",
       "\n",
       "#sk-container-id-2 div.sk-toggleable__content pre {\n",
       "  margin: 0.2em;\n",
       "  border-radius: 0.25em;\n",
       "  color: var(--sklearn-color-text);\n",
       "  /* unfitted */\n",
       "  background-color: var(--sklearn-color-unfitted-level-0);\n",
       "}\n",
       "\n",
       "#sk-container-id-2 div.sk-toggleable__content.fitted pre {\n",
       "  /* unfitted */\n",
       "  background-color: var(--sklearn-color-fitted-level-0);\n",
       "}\n",
       "\n",
       "#sk-container-id-2 input.sk-toggleable__control:checked~div.sk-toggleable__content {\n",
       "  /* Expand drop-down */\n",
       "  max-height: 200px;\n",
       "  max-width: 100%;\n",
       "  overflow: auto;\n",
       "}\n",
       "\n",
       "#sk-container-id-2 input.sk-toggleable__control:checked~label.sk-toggleable__label-arrow:before {\n",
       "  content: \"▾\";\n",
       "}\n",
       "\n",
       "/* Pipeline/ColumnTransformer-specific style */\n",
       "\n",
       "#sk-container-id-2 div.sk-label input.sk-toggleable__control:checked~label.sk-toggleable__label {\n",
       "  color: var(--sklearn-color-text);\n",
       "  background-color: var(--sklearn-color-unfitted-level-2);\n",
       "}\n",
       "\n",
       "#sk-container-id-2 div.sk-label.fitted input.sk-toggleable__control:checked~label.sk-toggleable__label {\n",
       "  background-color: var(--sklearn-color-fitted-level-2);\n",
       "}\n",
       "\n",
       "/* Estimator-specific style */\n",
       "\n",
       "/* Colorize estimator box */\n",
       "#sk-container-id-2 div.sk-estimator input.sk-toggleable__control:checked~label.sk-toggleable__label {\n",
       "  /* unfitted */\n",
       "  background-color: var(--sklearn-color-unfitted-level-2);\n",
       "}\n",
       "\n",
       "#sk-container-id-2 div.sk-estimator.fitted input.sk-toggleable__control:checked~label.sk-toggleable__label {\n",
       "  /* fitted */\n",
       "  background-color: var(--sklearn-color-fitted-level-2);\n",
       "}\n",
       "\n",
       "#sk-container-id-2 div.sk-label label.sk-toggleable__label,\n",
       "#sk-container-id-2 div.sk-label label {\n",
       "  /* The background is the default theme color */\n",
       "  color: var(--sklearn-color-text-on-default-background);\n",
       "}\n",
       "\n",
       "/* On hover, darken the color of the background */\n",
       "#sk-container-id-2 div.sk-label:hover label.sk-toggleable__label {\n",
       "  color: var(--sklearn-color-text);\n",
       "  background-color: var(--sklearn-color-unfitted-level-2);\n",
       "}\n",
       "\n",
       "/* Label box, darken color on hover, fitted */\n",
       "#sk-container-id-2 div.sk-label.fitted:hover label.sk-toggleable__label.fitted {\n",
       "  color: var(--sklearn-color-text);\n",
       "  background-color: var(--sklearn-color-fitted-level-2);\n",
       "}\n",
       "\n",
       "/* Estimator label */\n",
       "\n",
       "#sk-container-id-2 div.sk-label label {\n",
       "  font-family: monospace;\n",
       "  font-weight: bold;\n",
       "  display: inline-block;\n",
       "  line-height: 1.2em;\n",
       "}\n",
       "\n",
       "#sk-container-id-2 div.sk-label-container {\n",
       "  text-align: center;\n",
       "}\n",
       "\n",
       "/* Estimator-specific */\n",
       "#sk-container-id-2 div.sk-estimator {\n",
       "  font-family: monospace;\n",
       "  border: 1px dotted var(--sklearn-color-border-box);\n",
       "  border-radius: 0.25em;\n",
       "  box-sizing: border-box;\n",
       "  margin-bottom: 0.5em;\n",
       "  /* unfitted */\n",
       "  background-color: var(--sklearn-color-unfitted-level-0);\n",
       "}\n",
       "\n",
       "#sk-container-id-2 div.sk-estimator.fitted {\n",
       "  /* fitted */\n",
       "  background-color: var(--sklearn-color-fitted-level-0);\n",
       "}\n",
       "\n",
       "/* on hover */\n",
       "#sk-container-id-2 div.sk-estimator:hover {\n",
       "  /* unfitted */\n",
       "  background-color: var(--sklearn-color-unfitted-level-2);\n",
       "}\n",
       "\n",
       "#sk-container-id-2 div.sk-estimator.fitted:hover {\n",
       "  /* fitted */\n",
       "  background-color: var(--sklearn-color-fitted-level-2);\n",
       "}\n",
       "\n",
       "/* Specification for estimator info (e.g. \"i\" and \"?\") */\n",
       "\n",
       "/* Common style for \"i\" and \"?\" */\n",
       "\n",
       ".sk-estimator-doc-link,\n",
       "a:link.sk-estimator-doc-link,\n",
       "a:visited.sk-estimator-doc-link {\n",
       "  float: right;\n",
       "  font-size: smaller;\n",
       "  line-height: 1em;\n",
       "  font-family: monospace;\n",
       "  background-color: var(--sklearn-color-background);\n",
       "  border-radius: 1em;\n",
       "  height: 1em;\n",
       "  width: 1em;\n",
       "  text-decoration: none !important;\n",
       "  margin-left: 1ex;\n",
       "  /* unfitted */\n",
       "  border: var(--sklearn-color-unfitted-level-1) 1pt solid;\n",
       "  color: var(--sklearn-color-unfitted-level-1);\n",
       "}\n",
       "\n",
       ".sk-estimator-doc-link.fitted,\n",
       "a:link.sk-estimator-doc-link.fitted,\n",
       "a:visited.sk-estimator-doc-link.fitted {\n",
       "  /* fitted */\n",
       "  border: var(--sklearn-color-fitted-level-1) 1pt solid;\n",
       "  color: var(--sklearn-color-fitted-level-1);\n",
       "}\n",
       "\n",
       "/* On hover */\n",
       "div.sk-estimator:hover .sk-estimator-doc-link:hover,\n",
       ".sk-estimator-doc-link:hover,\n",
       "div.sk-label-container:hover .sk-estimator-doc-link:hover,\n",
       ".sk-estimator-doc-link:hover {\n",
       "  /* unfitted */\n",
       "  background-color: var(--sklearn-color-unfitted-level-3);\n",
       "  color: var(--sklearn-color-background);\n",
       "  text-decoration: none;\n",
       "}\n",
       "\n",
       "div.sk-estimator.fitted:hover .sk-estimator-doc-link.fitted:hover,\n",
       ".sk-estimator-doc-link.fitted:hover,\n",
       "div.sk-label-container:hover .sk-estimator-doc-link.fitted:hover,\n",
       ".sk-estimator-doc-link.fitted:hover {\n",
       "  /* fitted */\n",
       "  background-color: var(--sklearn-color-fitted-level-3);\n",
       "  color: var(--sklearn-color-background);\n",
       "  text-decoration: none;\n",
       "}\n",
       "\n",
       "/* Span, style for the box shown on hovering the info icon */\n",
       ".sk-estimator-doc-link span {\n",
       "  display: none;\n",
       "  z-index: 9999;\n",
       "  position: relative;\n",
       "  font-weight: normal;\n",
       "  right: .2ex;\n",
       "  padding: .5ex;\n",
       "  margin: .5ex;\n",
       "  width: min-content;\n",
       "  min-width: 20ex;\n",
       "  max-width: 50ex;\n",
       "  color: var(--sklearn-color-text);\n",
       "  box-shadow: 2pt 2pt 4pt #999;\n",
       "  /* unfitted */\n",
       "  background: var(--sklearn-color-unfitted-level-0);\n",
       "  border: .5pt solid var(--sklearn-color-unfitted-level-3);\n",
       "}\n",
       "\n",
       ".sk-estimator-doc-link.fitted span {\n",
       "  /* fitted */\n",
       "  background: var(--sklearn-color-fitted-level-0);\n",
       "  border: var(--sklearn-color-fitted-level-3);\n",
       "}\n",
       "\n",
       ".sk-estimator-doc-link:hover span {\n",
       "  display: block;\n",
       "}\n",
       "\n",
       "/* \"?\"-specific style due to the `<a>` HTML tag */\n",
       "\n",
       "#sk-container-id-2 a.estimator_doc_link {\n",
       "  float: right;\n",
       "  font-size: 1rem;\n",
       "  line-height: 1em;\n",
       "  font-family: monospace;\n",
       "  background-color: var(--sklearn-color-background);\n",
       "  border-radius: 1rem;\n",
       "  height: 1rem;\n",
       "  width: 1rem;\n",
       "  text-decoration: none;\n",
       "  /* unfitted */\n",
       "  color: var(--sklearn-color-unfitted-level-1);\n",
       "  border: var(--sklearn-color-unfitted-level-1) 1pt solid;\n",
       "}\n",
       "\n",
       "#sk-container-id-2 a.estimator_doc_link.fitted {\n",
       "  /* fitted */\n",
       "  border: var(--sklearn-color-fitted-level-1) 1pt solid;\n",
       "  color: var(--sklearn-color-fitted-level-1);\n",
       "}\n",
       "\n",
       "/* On hover */\n",
       "#sk-container-id-2 a.estimator_doc_link:hover {\n",
       "  /* unfitted */\n",
       "  background-color: var(--sklearn-color-unfitted-level-3);\n",
       "  color: var(--sklearn-color-background);\n",
       "  text-decoration: none;\n",
       "}\n",
       "\n",
       "#sk-container-id-2 a.estimator_doc_link.fitted:hover {\n",
       "  /* fitted */\n",
       "  background-color: var(--sklearn-color-fitted-level-3);\n",
       "}\n",
       "</style><div id=\"sk-container-id-2\" class=\"sk-top-container\"><div class=\"sk-text-repr-fallback\"><pre>SVC(random_state=42)</pre><b>In a Jupyter environment, please rerun this cell to show the HTML representation or trust the notebook. <br />On GitHub, the HTML representation is unable to render, please try loading this page with nbviewer.org.</b></div><div class=\"sk-container\" hidden><div class=\"sk-item\"><div class=\"sk-estimator fitted sk-toggleable\"><input class=\"sk-toggleable__control sk-hidden--visually\" id=\"sk-estimator-id-2\" type=\"checkbox\" checked><label for=\"sk-estimator-id-2\" class=\"sk-toggleable__label fitted sk-toggleable__label-arrow fitted\">&nbsp;&nbsp;SVC<a class=\"sk-estimator-doc-link fitted\" rel=\"noreferrer\" target=\"_blank\" href=\"https://scikit-learn.org/1.4/modules/generated/sklearn.svm.SVC.html\">?<span>Documentation for SVC</span></a><span class=\"sk-estimator-doc-link fitted\">i<span>Fitted</span></span></label><div class=\"sk-toggleable__content fitted\"><pre>SVC(random_state=42)</pre></div> </div></div></div></div>"
      ],
      "text/plain": [
       "SVC(random_state=42)"
      ]
     },
     "execution_count": 37,
     "metadata": {},
     "output_type": "execute_result"
    }
   ],
   "source": [
    "# Instantiate a baseline SVC model\n",
    "svm_clf = SVC(random_state=42)\n",
    "\n",
    "# Train the model\n",
    "svm_clf.fit(X_train_scaled, y_train)"
   ]
  },
  {
   "cell_type": "code",
   "execution_count": 39,
   "id": "dd3f75e9-8e0e-4324-a815-1318151ae89b",
   "metadata": {},
   "outputs": [
    {
     "data": {
      "image/png": "[encoded data removed]",
      "text/plain": [
       "<Figure size 600x500 with 2 Axes>"
      ]
     },
     "metadata": {},
     "output_type": "display_data"
    }
   ],
   "source": [
    "# Make predictions\n",
    "y_pred_svm = svm_clf.predict(X_test_scaled)\n",
    "\n",
    "# Compute confusion matrix\n",
    "cm_svm = confusion_matrix(y_test, y_pred_svm)\n",
    "\n",
    "# Plot the confusion matrix\n",
    "plt.figure(figsize=(6, 5))\n",
    "sns.heatmap(cm_svm, annot=True, fmt=\"d\", cmap=\"Blues\", xticklabels=svm_clf.classes_, yticklabels=svm_clf.classes_)\n",
    "plt.xlabel(\"Predicted Label\")\n",
    "plt.ylabel(\"True Label\")\n",
    "plt.title(\"Confusion Matrix for Base Support Vector Classifier\")\n",
    "plt.savefig(\"images/Confusion_Matrix_for_Support_Vector_Classifier.png\")\n",
    "plt.show()"
   ]
  },
  {
   "cell_type": "code",
   "execution_count": 41,
   "id": "9e56af65-e06a-45c7-9df0-482e7b4607f9",
   "metadata": {},
   "outputs": [
    {
     "name": "stdout",
     "output_type": "stream",
     "text": [
      "Classification Report:\n",
      "               precision    recall  f1-score   support\n",
      "\n",
      "      NORMAL       0.96      0.22      0.35       231\n",
      "   PNEUMONIA       0.68      0.99      0.81       387\n",
      "\n",
      "    accuracy                           0.70       618\n",
      "   macro avg       0.82      0.61      0.58       618\n",
      "weighted avg       0.79      0.70      0.64       618\n",
      "\n"
     ]
    }
   ],
   "source": [
    "# Print classification report\n",
    "print(\"Classification Report:\\n\", classification_report(y_test, y_pred_svm))"
   ]
  },
  {
   "cell_type": "markdown",
   "id": "c6e09250-ce32-4d66-bb80-71e95c8506e1",
   "metadata": {},
   "source": [
    "Base Support Vector Classifier Accuracy, Precision, Recall, and F1-Score:\n",
    "\n",
    "- **TP (True Positives - Pneumonia correctly identfied):** 385\n",
    "- **FN (False Negatives - Pneumonia misclassified as Normal):** 2\n",
    "- **TN (True Negatives - Normal correctly identified):** 50\n",
    "- **FP (False Positives - Normal misclassified as Pneumonia):** 181\n",
    "\n",
    "$\\text{Accuracy} = \\frac{\\text{TP+TN}}{\\text{TP+FP+TN+FN}}$\n",
    "$ = \\frac{385+50}{385+181+50+2} = \\frac{435}{618} \\approx 0.7039$\n",
    "\n",
    "$\\text{Recall} =  \\frac{\\text{TP}}{\\text{TP+FN}}$\n",
    "$ = \\frac{385}{385+2}=\\frac{385}{387} \\approx 0.9948$\n",
    "\n",
    "$\\text{Precision} = \\frac{\\text{TP}}{\\text{TP+FP}}$\n",
    "$ = \\frac{385}{385+181}=\\frac{385}{566} \\approx 0.6802$\n",
    "\n",
    "$\\text{F1-Score} = 2 \\times \\frac{\\text{Precision}\\times \\text{Recall}}{\\text{Precision + Recall}}$\n",
    "$ = 2 \\times \\frac{0.6802 \\times 0.9948}{0.6802+0.9948} = 2 \\times \\frac{0.6767}{1.675} \\approx 0.808$"
   ]
  },
  {
   "cell_type": "markdown",
   "id": "b147e0a9-1240-4064-bbdd-7311c6d8d156",
   "metadata": {},
   "source": [
    "### Randomized Search SVM"
   ]
  },
  {
   "cell_type": "code",
   "execution_count": 44,
   "id": "9436ab91-bb2c-4ecc-9154-87609f688c9d",
   "metadata": {},
   "outputs": [
    {
     "name": "stdout",
     "output_type": "stream",
     "text": [
      "Best SVM Parameters: {'C': 78.06910002727692, 'gamma': 0.596950157946487, 'kernel': 'linear'}\n",
      "Best SVM Test Accuracy: 0.6958\n"
     ]
    }
   ],
   "source": [
    "# Define parameter distributions\n",
    "param_dist_svm = {\n",
    "    'C': stats.uniform(0.1, 100),  # Search between 0.1 and 100\n",
    "    'gamma': stats.uniform(0.0001, 1),  # Range for RBF kernel influence\n",
    "    'kernel': ['rbf', 'linear', 'poly']  # Test different kernel types\n",
    "}\n",
    "\n",
    "# Initialize SVM model\n",
    "svm_clf = SVC(random_state=42)\n",
    "\n",
    "# Initialize RandomizedSearchCV\n",
    "random_search_svm = RandomizedSearchCV(\n",
    "    estimator=svm_clf,\n",
    "    param_distributions=param_dist_svm,\n",
    "    n_iter=20,  # Try 20 random combinations\n",
    "    scoring='accuracy',\n",
    "    cv=5,  # 5-fold cross-validation\n",
    "    verbose=0,\n",
    "    random_state=42,\n",
    "    n_jobs=-1  # Use all available cores\n",
    ")\n",
    "\n",
    "# Fit Randomized Search\n",
    "random_search_svm.fit(X_train_scaled, y_train)\n",
    "\n",
    "# Print best parameters\n",
    "print(\"Best SVM Parameters:\", random_search_svm.best_params_)\n",
    "\n",
    "# Evaluate best model\n",
    "best_svm = random_search_svm.best_estimator_\n",
    "test_accuracy_svm = best_svm.score(X_test_scaled, y_test)\n",
    "print(f\"Best SVM Test Accuracy: {test_accuracy_svm:.4f}\")"
   ]
  },
  {
   "cell_type": "code",
   "execution_count": 46,
   "id": "c5ef4b7b-2199-4f9c-9393-a0173eeb9a90",
   "metadata": {},
   "outputs": [
    {
     "data": {
      "image/png": "[encoded data removed]",
      "text/plain": [
       "<Figure size 600x500 with 2 Axes>"
      ]
     },
     "metadata": {},
     "output_type": "display_data"
    }
   ],
   "source": [
    "y_pred_best_svm = best_svm.predict(X_test_scaled)\n",
    "\n",
    "# Compute confusion matrix\n",
    "cm_best_svm = confusion_matrix(y_test, y_pred_best_svm)\n",
    "\n",
    "# Plot the confusion matrix\n",
    "plt.figure(figsize=(6, 5))\n",
    "sns.heatmap(cm_best_svm, annot=True, fmt=\"d\", cmap=\"Blues\", xticklabels=best_svm.classes_, yticklabels=best_svm.classes_)\n",
    "plt.xlabel(\"Predicted Label\")\n",
    "plt.ylabel(\"True Label\")\n",
    "plt.title(\"Confusion Matrix for Best Support Vector Classifier\")\n",
    "plt.savefig(\"images/Confusion_Matrix_for_Best_Support_Vector_Classifier.png\")\n",
    "plt.show()"
   ]
  },
  {
   "cell_type": "code",
   "execution_count": 48,
   "id": "27849861-8a1b-4617-911c-d1b7a6768723",
   "metadata": {},
   "outputs": [
    {
     "name": "stdout",
     "output_type": "stream",
     "text": [
      "Classification Report:\n",
      "               precision    recall  f1-score   support\n",
      "\n",
      "      NORMAL       0.96      0.19      0.32       231\n",
      "   PNEUMONIA       0.67      0.99      0.80       387\n",
      "\n",
      "    accuracy                           0.70       618\n",
      "   macro avg       0.82      0.59      0.56       618\n",
      "weighted avg       0.78      0.70      0.62       618\n",
      "\n"
     ]
    }
   ],
   "source": [
    "# Print classification report\n",
    "print(\"Classification Report:\\n\", classification_report(y_test, y_pred_best_svm))"
   ]
  },
  {
   "cell_type": "markdown",
   "id": "3127007d-139a-435a-b93e-909f6a75a0c5",
   "metadata": {},
   "source": [
    "Best Support Vector Classifier Accuracy, Precision, Recall, and F1-Score:\n",
    "\n",
    "- **TP (True Positives - Pneumonia correctly identfied):** 385\n",
    "- **FN (False Negatives - Pneumonia misclassified as Normal):** 2\n",
    "- **TN (True Negatives - Normal correctly identified):** 45\n",
    "- **FP (False Positives - Normal misclassified as Pneumonia):** 186\n",
    "\n",
    "$\\text{Accuracy} = \\frac{\\text{TP+TN}}{\\text{TP+FP+TN+FN}}$\n",
    "$ = \\frac{385+45}{385+186+45+2} = \\frac{430}{618} \\approx 0.6958$\n",
    "\n",
    "$\\text{Recall} =  \\frac{\\text{TP}}{\\text{TP+FN}}$\n",
    "$ = \\frac{385}{385+2}=\\frac{385}{387} \\approx 0.9948$\n",
    "\n",
    "$\\text{Precision} = \\frac{\\text{TP}}{\\text{TP+FP}}$\n",
    "$ = \\frac{385}{385+186}=\\frac{369}{571} \\approx 0.6743$\n",
    "\n",
    "$\\text{F1-Score} = 2 \\times \\frac{\\text{Precision}\\times \\text{Recall}}{\\text{Precision + Recall}}$\n",
    "$ = 2 \\times \\frac{0.6743 \\times 0.9948}{0.6743+0.9948} = 2 \\times \\frac{0.6708}{1.6691} \\approx 0.8038$"
   ]
  },
  {
   "cell_type": "markdown",
   "id": "1476e96c-8418-442b-a752-9837b7400356",
   "metadata": {},
   "source": [
    "### Ensemble Learning (3 Random Forests with Hard Voting)"
   ]
  },
  {
   "cell_type": "code",
   "execution_count": 50,
   "id": "72551eef-219b-42c6-91e0-d2eccc701872",
   "metadata": {},
   "outputs": [
    {
     "name": "stdout",
     "output_type": "stream",
     "text": [
      "Voting Random Forest Accuracy: 0.6941747572815534\n"
     ]
    }
   ],
   "source": [
    "# Define best hyperparameters from previous tuning\n",
    "best_parameters = {\n",
    "    'n_estimators': 450,\n",
    "    'max_depth': 30,\n",
    "    'min_samples_split': 10,\n",
    "    'min_samples_leaf': 1,\n",
    "    'max_features': None,\n",
    "    'bootstrap': True\n",
    "}\n",
    "\n",
    "# Define different random states for diversity\n",
    "random_states = [42, 84, 126]\n",
    "\n",
    "# Create multiple Random Forest models with different random states\n",
    "rf_models = [\n",
    "    ('rf_' + str(i), RandomForestClassifier(**best_parameters, random_state=seed))\n",
    "    for i, seed in enumerate(random_states)\n",
    "]\n",
    "\n",
    "# Define Voting Classifier (majority voting)\n",
    "voting_rf = VotingClassifier(\n",
    "    estimators=rf_models,\n",
    "    voting='hard'  # 'hard' for majority vote, 'soft' for probability averaging\n",
    ")\n",
    "\n",
    "# Train the ensemble model\n",
    "voting_rf.fit(X_train, y_train)\n",
    "\n",
    "# Predict on test data\n",
    "y_pred_voting = voting_rf.predict(X_test)\n",
    "\n",
    "print(\"Voting Random Forest Accuracy:\", accuracy_score(y_test, y_pred_voting))"
   ]
  },
  {
   "cell_type": "code",
   "execution_count": 52,
   "id": "fb847aea-a36b-435e-a0e4-06896a0c4b1d",
   "metadata": {},
   "outputs": [
    {
     "data": {
      "image/png": "[encoded data removed]",
      "text/plain": [
       "<Figure size 600x500 with 2 Axes>"
      ]
     },
     "metadata": {},
     "output_type": "display_data"
    }
   ],
   "source": [
    "# Compute confusion matrix\n",
    "cm_voting_rfs = confusion_matrix(y_test, y_pred_voting)\n",
    "\n",
    "# Plot the confusion matrix\n",
    "plt.figure(figsize=(6, 5))\n",
    "sns.heatmap(cm_voting_rfs, annot=True, fmt=\"d\", cmap=\"Blues\", xticklabels=voting_rf.classes_, yticklabels=voting_rf.classes_)\n",
    "plt.xlabel(\"Predicted Label\")\n",
    "plt.ylabel(\"True Label\")\n",
    "plt.title(\"Confusion Matrix for Ensemble of Random Forest Classifiers\")\n",
    "plt.savefig(\"images/Confusion_Matrix_for_Ensemble_of_Random_Forest_Classifiers.png\")\n",
    "plt.show()"
   ]
  },
  {
   "cell_type": "code",
   "execution_count": 54,
   "id": "e8685a6a-f028-4309-af23-9c5e95bd46de",
   "metadata": {},
   "outputs": [
    {
     "name": "stdout",
     "output_type": "stream",
     "text": [
      "\n",
      "Classification Report:\n",
      "               precision    recall  f1-score   support\n",
      "\n",
      "      NORMAL       0.98      0.19      0.31       231\n",
      "   PNEUMONIA       0.67      1.00      0.80       387\n",
      "\n",
      "    accuracy                           0.69       618\n",
      "   macro avg       0.82      0.59      0.56       618\n",
      "weighted avg       0.79      0.69      0.62       618\n",
      "\n"
     ]
    }
   ],
   "source": [
    "print(\"\\nClassification Report:\\n\", classification_report(y_test, y_pred_voting))"
   ]
  },
  {
   "cell_type": "markdown",
   "id": "7af4396b-5b7e-44a4-9224-cb2fcda184af",
   "metadata": {},
   "source": [
    "Ensemble of Random Forest Classifiers Accuracy, Precision, Recall, and F1-Score:\n",
    "\n",
    "- **TP (True Positives - Pneumonia correctly identfied):** 386\n",
    "- **FN (False Negatives - Pneumonia misclassified as Normal):** 1\n",
    "- **TN (True Negatives - Normal correctly identified):** 43\n",
    "- **FP (False Positives - Normal misclassified as Pneumonia):** 188\n",
    "\n",
    "$\\text{Accuracy} = \\frac{\\text{TP+TN}}{\\text{TP+FP+TN+FN}}$\n",
    "$ = \\frac{386+43}{386+188+43+1} = \\frac{429}{618} \\approx 0.6942$\n",
    "\n",
    "$\\text{Recall} =  \\frac{\\text{TP}}{\\text{TP+FN}}$\n",
    "$ = \\frac{386}{386+1}=\\frac{386}{387} \\approx 0.9974$\n",
    "\n",
    "$\\text{Precision} = \\frac{\\text{TP}}{\\text{TP+FP}}$\n",
    "$ = \\frac{386}{386+188}=\\frac{386}{574} \\approx 0.6725$\n",
    "\n",
    "$\\text{F1-Score} = 2 \\times \\frac{\\text{Precision}\\times \\text{Recall}}{\\text{Precision + Recall}}$\n",
    "$ = 2 \\times \\frac{0.6725 \\times 0.9974}{0.6725+0.9974} = 2 \\times \\frac{0.6708}{1.6699} \\approx 0.803$"
   ]
  },
  {
   "cell_type": "markdown",
   "id": "ddb0fc83-1d4e-4b54-a54e-1c991875629a",
   "metadata": {},
   "source": [
    "### Custom Convolutional Neural Network (CNN)"
   ]
  },
  {
   "cell_type": "markdown",
   "id": "eb651334-8907-4ae9-85ae-83c8c558d645",
   "metadata": {},
   "source": [
    "*Please note that all models below were built and trained in the 'Final CNN Modeling.ipynb' notebook."
   ]
  },
  {
   "cell_type": "markdown",
   "id": "2f3cd673-93c3-4efe-944a-b8eb64cf98d4",
   "metadata": {},
   "source": [
    "- First Convolutional Block\n",
    "    - 64 filters, ReLU activation, L2 Regularization (to prevent overfitting)\n",
    "    - Pooling layer\n",
    "- Second Convolutional Block\n",
    "    - 128 filters, ReLU activation, L2 Regulatization (to prevent overfitting)\n",
    "    - Pooling Layer\n",
    "- Third Convolutional Block\n",
    "    - 256 filters, ReLU activation, L2 Regularization (to prevent overfitting)\n",
    "    - Pooling Layer\n",
    "- Flattening Layer\n",
    "- Fully Connected Dense Layer\n",
    "    - 256 neurons, ReLU activation, L2 Regularization (to prevent overfitting)\n",
    "- Dropout\n",
    "    - 50% of neurons dropped to prevent overfitting\n",
    "- Output Layer\n",
    "    - Single sigmoid neuron\n",
    " \n",
    "This is just a simple CNN I built based off of similar architecture I found through some quick research. The regularization techniques were added as I noticed the function was learning too quickly and overfitting on the training set.\n",
    "\n",
    "Lastly, I used a dynamic learning rate that reduced everytime the testing loss did not improve for 3 iterations."
   ]
  },
  {
   "cell_type": "markdown",
   "id": "f8ce7698-7ace-42c4-bcd7-3b63b8f69ba6",
   "metadata": {},
   "source": [
    "#### Confusion Matrix for Custom CNN"
   ]
  },
  {
   "cell_type": "markdown",
   "id": "2ce8e377-87f2-4abb-afb5-bb630d16ee14",
   "metadata": {},
   "source": [
    "![alt text](images/CNN_Model_Classification_Report.png)"
   ]
  },
  {
   "cell_type": "markdown",
   "id": "ad4deeab-c070-4ffd-a3b7-57a8e29a8044",
   "metadata": {},
   "source": [
    "Base CNN Accuracy, Precision, Recall, and F1-Score:\n",
    "\n",
    "- **TP (True Positives - Pneumonia correctly identfied):** 360\n",
    "- **FN (False Negatives - Pneumonia misclassified as Normal):** 27\n",
    "- **TN (True Negatives - Normal correctly identified):** 186\n",
    "- **FP (False Positives - Normal misclassified as Pneumonia):** 45\n",
    "\n",
    "$\\text{Accuracy} = \\frac{\\text{TP+TN}}{\\text{TP+FP+TN+FN}}$\n",
    "$ = \\frac{360+186}{360+45+186+27} = \\frac{546}{618} \\approx 0.8835$\n",
    "\n",
    "$\\text{Recall} =  \\frac{\\text{TP}}{\\text{TP+FN}}$\n",
    "$ = \\frac{360}{360+27}=\\frac{360}{387} \\approx 0.9302$\n",
    "\n",
    "$\\text{Precision} = \\frac{\\text{TP}}{\\text{TP+FP}}$\n",
    "$ = \\frac{360}{360+45}=\\frac{360}{405} \\approx 0.8889$\n",
    "\n",
    "$\\text{F1-Score} = 2 \\times \\frac{\\text{Precision}\\times \\text{Recall}}{\\text{Precision + Recall}}$\n",
    "$ = 2 \\times \\frac{0.8889 \\times 0.9302}{0.8889+0.9302} = 2 \\times \\frac{0.8269}{1.8191} \\approx 0.9091$"
   ]
  },
  {
   "cell_type": "markdown",
   "id": "d4dbbb08-66e4-4847-abc5-cdfc23a3b763",
   "metadata": {},
   "source": [
    "### Pretrained CNN VGG16"
   ]
  },
  {
   "cell_type": "markdown",
   "id": "d7777b8c-c906-4b80-9d62-a6efcca30e0c",
   "metadata": {},
   "source": [
    "The VGG16 model was built for ImageNet. The architecture is too complex to go into for now, but this is a common pretrained classification CNN. More information on this model can be found [here](https://arxiv.org/abs/1409.1556). \n",
    "\n",
    "We do add a few layers to the bottom that we used in the first CNN model. This again is to discourage overfitting."
   ]
  },
  {
   "cell_type": "markdown",
   "id": "16ac6536-4e79-4ed5-a884-98c29436a326",
   "metadata": {},
   "source": [
    "![alt text](images/VGG16_Model_Classification_Report.png)"
   ]
  },
  {
   "cell_type": "markdown",
   "id": "380c5e94-5d54-4a65-bb9f-3362a6711777",
   "metadata": {},
   "source": [
    "VGG16 CNN Accuracy, Precision, Recall, and F1-Score:\n",
    "\n",
    "- **TP (True Positives - Pneumonia correctly identfied):** 381\n",
    "- **FN (False Negatives - Pneumonia misclassified as Normal):** 6\n",
    "- **TN (True Negatives - Normal correctly identified):** 205\n",
    "- **FP (False Positives - Normal misclassified as Pneumonia):** 26\n",
    "\n",
    "$\\text{Accuracy} = \\frac{\\text{TP+TN}}{\\text{TP+FP+TN+FN}}$\n",
    "$ = \\frac{381+205}{381+26+205+6} = \\frac{586}{618} \\approx 0.9482$\n",
    "\n",
    "$\\text{Recall} =  \\frac{\\text{TP}}{\\text{TP+FN}}$\n",
    "$ = \\frac{381}{381+6}=\\frac{381}{387} \\approx 0.9845$\n",
    "\n",
    "$\\text{Precision} = \\frac{\\text{TP}}{\\text{TP+FP}}$\n",
    "$ = \\frac{381}{381+26}=\\frac{381}{407} \\approx 0.9361$\n",
    "\n",
    "$\\text{F1-Score} = 2 \\times \\frac{\\text{Precision}\\times \\text{Recall}}{\\text{Precision + Recall}}$\n",
    "$ = 2 \\times \\frac{0.9361 \\times 0.9845}{0.9361+0.9845} = 2 \\times \\frac{0.9216}{1.9206} \\approx 0.9597$"
   ]
  },
  {
   "cell_type": "markdown",
   "id": "9b6752a3-36bc-445e-b9a9-c253c1b8e7a2",
   "metadata": {},
   "source": [
    "### Pretrained CNN DenseNet121"
   ]
  },
  {
   "cell_type": "markdown",
   "id": "1b6d044e-4a2e-4112-8b83-49d8454662ed",
   "metadata": {},
   "source": [
    "The DenseNet121 is another model that was built for ImageNet. The architecture is too complex to go into for now, but this is a common pretrained classification CNN. More information on this model can be found [here](https://arxiv.org/abs/1608.06993). \n",
    "\n",
    "We do add a few layers to the bottom that we used in the first CNN model. This again is to discourage overfitting."
   ]
  },
  {
   "cell_type": "markdown",
   "id": "52eac595-1993-402b-967c-40b917477a75",
   "metadata": {},
   "source": [
    "![alt text](images/DenseNet121_Model_Classification_Report.png)"
   ]
  },
  {
   "cell_type": "markdown",
   "id": "66a0c2b6-9950-4502-a0bd-9a192203497f",
   "metadata": {},
   "source": [
    "DenseNet121 CNN Accuracy, Precision, Recall, and F1-Score:\n",
    "\n",
    "- **TP (True Positives - Pneumonia correctly identfied):** 374\n",
    "- **FN (False Negatives - Pneumonia misclassified as Normal):** 13\n",
    "- **TN (True Negatives - Normal correctly identified):** 169\n",
    "- **FP (False Positives - Normal misclassified as Pneumonia):** 62\n",
    "\n",
    "$\\text{Accuracy} = \\frac{\\text{TP+TN}}{\\text{TP+FP+TN+FN}}$\n",
    "$ = \\frac{374+169}{374+62+169+13} = \\frac{543}{618} \\approx 0.8786$\n",
    "\n",
    "$\\text{Recall} =  \\frac{\\text{TP}}{\\text{TP+FN}}$\n",
    "$ = \\frac{374}{374+13}=\\frac{374}{387} \\approx 0.9664$\n",
    "\n",
    "$\\text{Precision} = \\frac{\\text{TP}}{\\text{TP+FP}}$\n",
    "$ = \\frac{374}{374+62}=\\frac{374}{436} \\approx 0.8578$\n",
    "\n",
    "$\\text{F1-Score} = 2 \\times \\frac{\\text{Precision}\\times \\text{Recall}}{\\text{Precision + Recall}}$\n",
    "$ = 2 \\times \\frac{0.8578 \\times 0.9664}{0.8578+0.9664} = 2 \\times \\frac{0.8290}{1.8242} \\approx 0.9089$"
   ]
  },
  {
   "cell_type": "markdown",
   "id": "dfd50eb0-c6cf-4103-82d6-8d2ff31e5c10",
   "metadata": {},
   "source": [
    "# Model Evaluation & Comparison"
   ]
  },
  {
   "cell_type": "markdown",
   "id": "7741f5f9-fb0c-46ad-a211-fd84aef20f94",
   "metadata": {},
   "source": [
    "## Key Metrics:"
   ]
  },
  {
   "cell_type": "markdown",
   "id": "81cc818d-47c6-43dc-b850-50c11bfedeab",
   "metadata": {},
   "source": [
    "### Accuracy, Precision, Recall, F1-score"
   ]
  },
  {
   "cell_type": "code",
   "execution_count": 101,
   "id": "f1163e52-ed67-4744-aa2a-6697e99a3f9f",
   "metadata": {},
   "outputs": [
    {
     "data": {
      "image/png": "[encoded data removed]",
      "text/plain": [
       "<Figure size 1200x600 with 1 Axes>"
      ]
     },
     "metadata": {},
     "output_type": "display_data"
    }
   ],
   "source": [
    "# Model names\n",
    "models = [\n",
    "    \"Dummy\", \"RF (Base)\", \"RF (Tuned)\",\n",
    "    \"SVM (Base)\", \"SVM (Tuned)\", \"Ensemble RF\",\n",
    "    \"CNN (Base)\", \"VGG16\", \"DenseNet121\"\n",
    "]\n",
    "\n",
    "# Metric values\n",
    "accuracy =  [0.6262, 0.6893, 0.6942,\n",
    "             0.7039, 0.6958, 0.6942,\n",
    "             0.8835, 0.9482, 0.8786]\n",
    "#^done\n",
    "precision = [0.6262, 0.6690, 0.6727,\n",
    "             0.6802, 0.6743, 0.6725,\n",
    "             0.8889, 0.9361, 0.8578]\n",
    "\n",
    "recall =    [1.0000, 0.9974, 0.9974,\n",
    "             0.9948, 0.9948, 0.9974,\n",
    "             0.9302, 0.9845, 0.9664]\n",
    "\n",
    "f1_score =  [0.7701, 0.8152, 0.8037,\n",
    "             0.8080, 0.8038, 0.8030,\n",
    "             0.9091, 0.9597, 0.9089]\n",
    "\n",
    "# Set width of bars\n",
    "x = np.arange(len(models))\n",
    "width = 0.2\n",
    "\n",
    "# Plot each metric\n",
    "plt.figure(figsize=(12,6))\n",
    "plt.bar(x - width*1.5, accuracy, width, label=\"Accuracy\", color=\"lightblue\")\n",
    "plt.bar(x - width/2, precision, width, label=\"Precision\", color=\"orange\")\n",
    "plt.bar(x + width/2, recall, width, label=\"Recall\", color=\"lightgreen\")\n",
    "plt.bar(x + width*1.5, f1_score, width, label=\"F1-Score\", color=\"pink\")\n",
    "\n",
    "# Formatting\n",
    "plt.xlabel(\"Model\")\n",
    "plt.ylabel(\"Score\")\n",
    "plt.title(\"Model Performance Comparison\")\n",
    "plt.xticks(ticks=x, labels=models, rotation=45, ha=\"right\")\n",
    "plt.legend()\n",
    "plt.grid(axis=\"y\", linestyle=\"--\", alpha=0.7)\n",
    "\n",
    "# Show the plot\n",
    "plt.show()"
   ]
  },
  {
   "cell_type": "markdown",
   "id": "2aabab40-f15f-4ec8-b356-128fbf2e739d",
   "metadata": {},
   "source": [
    "## Comparison Table:"
   ]
  },
  {
   "cell_type": "markdown",
   "id": "57f45d15-cd97-4ab2-86e4-afe8efd615e6",
   "metadata": {},
   "source": [
    "### Compare Dummy, RF, SVM, and CNN models"
   ]
  },
  {
   "cell_type": "code",
   "execution_count": 105,
   "id": "b2328fdd-2e9b-4011-838c-2d948122f648",
   "metadata": {},
   "outputs": [
    {
     "data": {
      "text/html": [
       "<div>\n",
       "<style scoped>\n",
       "    .dataframe tbody tr th:only-of-type {\n",
       "        vertical-align: middle;\n",
       "    }\n",
       "\n",
       "    .dataframe tbody tr th {\n",
       "        vertical-align: top;\n",
       "    }\n",
       "\n",
       "    .dataframe thead th {\n",
       "        text-align: right;\n",
       "    }\n",
       "</style>\n",
       "<table border=\"1\" class=\"dataframe\">\n",
       "  <thead>\n",
       "    <tr style=\"text-align: right;\">\n",
       "      <th></th>\n",
       "      <th>Model</th>\n",
       "      <th>Accuracy</th>\n",
       "      <th>Precision</th>\n",
       "      <th>Recall</th>\n",
       "      <th>F1 Score</th>\n",
       "    </tr>\n",
       "  </thead>\n",
       "  <tbody>\n",
       "    <tr>\n",
       "      <th>0</th>\n",
       "      <td>Dummy</td>\n",
       "      <td>0.6262</td>\n",
       "      <td>0.6262</td>\n",
       "      <td>1.0000</td>\n",
       "      <td>0.7701</td>\n",
       "    </tr>\n",
       "    <tr>\n",
       "      <th>1</th>\n",
       "      <td>RF (Base)</td>\n",
       "      <td>0.6893</td>\n",
       "      <td>0.6690</td>\n",
       "      <td>0.9974</td>\n",
       "      <td>0.8152</td>\n",
       "    </tr>\n",
       "    <tr>\n",
       "      <th>2</th>\n",
       "      <td>RF (Tuned)</td>\n",
       "      <td>0.6942</td>\n",
       "      <td>0.6727</td>\n",
       "      <td>0.9974</td>\n",
       "      <td>0.8037</td>\n",
       "    </tr>\n",
       "    <tr>\n",
       "      <th>3</th>\n",
       "      <td>SVM (Base)</td>\n",
       "      <td>0.7039</td>\n",
       "      <td>0.6802</td>\n",
       "      <td>0.9948</td>\n",
       "      <td>0.8080</td>\n",
       "    </tr>\n",
       "    <tr>\n",
       "      <th>4</th>\n",
       "      <td>SVM (Tuned)</td>\n",
       "      <td>0.6958</td>\n",
       "      <td>0.6743</td>\n",
       "      <td>0.9948</td>\n",
       "      <td>0.8038</td>\n",
       "    </tr>\n",
       "    <tr>\n",
       "      <th>5</th>\n",
       "      <td>Ensemble RF</td>\n",
       "      <td>0.6942</td>\n",
       "      <td>0.6725</td>\n",
       "      <td>0.9974</td>\n",
       "      <td>0.8030</td>\n",
       "    </tr>\n",
       "    <tr>\n",
       "      <th>6</th>\n",
       "      <td>CNN (Base)</td>\n",
       "      <td>0.8835</td>\n",
       "      <td>0.8889</td>\n",
       "      <td>0.9302</td>\n",
       "      <td>0.9091</td>\n",
       "    </tr>\n",
       "    <tr>\n",
       "      <th>7</th>\n",
       "      <td>VGG16</td>\n",
       "      <td>0.9482</td>\n",
       "      <td>0.9361</td>\n",
       "      <td>0.9845</td>\n",
       "      <td>0.9597</td>\n",
       "    </tr>\n",
       "    <tr>\n",
       "      <th>8</th>\n",
       "      <td>DenseNet121</td>\n",
       "      <td>0.8786</td>\n",
       "      <td>0.8578</td>\n",
       "      <td>0.9664</td>\n",
       "      <td>0.9089</td>\n",
       "    </tr>\n",
       "  </tbody>\n",
       "</table>\n",
       "</div>"
      ],
      "text/plain": [
       "         Model  Accuracy  Precision  Recall  F1 Score\n",
       "0        Dummy    0.6262     0.6262  1.0000    0.7701\n",
       "1    RF (Base)    0.6893     0.6690  0.9974    0.8152\n",
       "2   RF (Tuned)    0.6942     0.6727  0.9974    0.8037\n",
       "3   SVM (Base)    0.7039     0.6802  0.9948    0.8080\n",
       "4  SVM (Tuned)    0.6958     0.6743  0.9948    0.8038\n",
       "5  Ensemble RF    0.6942     0.6725  0.9974    0.8030\n",
       "6   CNN (Base)    0.8835     0.8889  0.9302    0.9091\n",
       "7        VGG16    0.9482     0.9361  0.9845    0.9597\n",
       "8  DenseNet121    0.8786     0.8578  0.9664    0.9089"
      ]
     },
     "execution_count": 105,
     "metadata": {},
     "output_type": "execute_result"
    }
   ],
   "source": [
    "# Create a dictionary with the metrics data\n",
    "final_metrics_dict = {\n",
    "    \"Model\": models,\n",
    "    \"Accuracy\": accuracy,\n",
    "    \"Precision\": precision,\n",
    "    \"Recall\": recall,\n",
    "    \"F1 Score\": f1_score\n",
    "}\n",
    "\n",
    "# Create the DataFrame\n",
    "final_metrics_df = pd.DataFrame(final_metrics_dict)\n",
    "\n",
    "# Display the DataFrame\n",
    "final_metrics_df"
   ]
  },
  {
   "cell_type": "markdown",
   "id": "a60fce43-6e4e-4a9a-8acb-36dfe44f0de9",
   "metadata": {},
   "source": [
    "### Identify which model performs best on Normal vs. Pneumonia cases"
   ]
  },
  {
   "cell_type": "code",
   "execution_count": 111,
   "id": "d383f095-c5bf-4c46-b17a-9f022bb6c586",
   "metadata": {},
   "outputs": [
    {
     "name": "stdout",
     "output_type": "stream",
     "text": [
      "Best Accuracy: VGG16 with 0.9482\n",
      "Best Precision: VGG16 with 0.9361\n",
      "Best Recall: Dummy with 1.0000\n",
      "Best F1 Score: VGG16 with 0.9597\n"
     ]
    }
   ],
   "source": [
    "# Suppose your DataFrame is called final_metrics_df\n",
    "metrics_list = [\"Accuracy\", \"Precision\", \"Recall\", \"F1 Score\"]\n",
    "\n",
    "for metric in metrics_list:\n",
    "    # Get the index of the row with the maximum value for this metric\n",
    "    best_index = final_metrics_df[metric].idxmax()\n",
    "    # Retrieve the model name\n",
    "    best_model = final_metrics_df.loc[best_index, \"Model\"]\n",
    "    # Retrieve the best score\n",
    "    best_score = final_metrics_df.loc[best_index, metric]\n",
    "    print(f\"Best {metric}: {best_model} with {best_score:.4f}\")"
   ]
  },
  {
   "cell_type": "markdown",
   "id": "d42cd0f9-4146-4851-bbec-420e2dab76a5",
   "metadata": {},
   "source": [
    "![alt text](images/VGG16_ROC.png)"
   ]
  },
  {
   "cell_type": "markdown",
   "id": "1e1df2b8-a775-49da-8783-1ac84a7d09f0",
   "metadata": {},
   "source": [
    "VGG16 AUC-ROC: 0.936"
   ]
  },
  {
   "cell_type": "markdown",
   "id": "3699bdb7-ebec-4b69-b681-04546bc95e9f",
   "metadata": {},
   "source": [
    "#### Best Model: VGG16 Fine-tuned Model"
   ]
  },
  {
   "cell_type": "markdown",
   "id": "148d05db-984f-4d7f-b446-49c73143d5d5",
   "metadata": {},
   "source": [
    "## Feature Importance Analysis"
   ]
  },
  {
   "cell_type": "markdown",
   "id": "42fb3bd0-c2b8-4d06-8b2b-61bafc0e834c",
   "metadata": {},
   "source": [
    "### Best Random Forest Classifier"
   ]
  },
  {
   "cell_type": "code",
   "execution_count": 137,
   "id": "eaec21e4-a4a8-4210-843f-582d0f30245a",
   "metadata": {},
   "outputs": [
    {
     "name": "stdout",
     "output_type": "stream",
     "text": [
      "Top 10 features from Random Forest:\n",
      "            Feature  Importance\n",
      "0  GLCM_Homogeneity    0.469882\n",
      "1    Fourier_Energy    0.210935\n",
      "2  GLCM_Correlation    0.034583\n",
      "3       GLCM_Energy    0.027995\n",
      "4        Blurriness    0.022716\n",
      "5               PC3    0.020959\n",
      "6        Brightness    0.019309\n",
      "7               PC6    0.014671\n",
      "8               PC9    0.014323\n",
      "9     Edge_Strength    0.014202\n"
     ]
    },
    {
     "data": {
      "image/png": "[encoded data removed]",
      "text/plain": [
       "<Figure size 800x600 with 1 Axes>"
      ]
     },
     "metadata": {},
     "output_type": "display_data"
    }
   ],
   "source": [
    "# Number of top features to display\n",
    "top_n = 10\n",
    "\n",
    "# Get feature importances from the tuned Random Forest\n",
    "rf_importances = best_rf.feature_importances_\n",
    "\n",
    "# Get indices of features sorted by importance (in descending order)\n",
    "rf_indices = np.argsort(rf_importances)[::-1]\n",
    "\n",
    "# Extract the top N features and their importances\n",
    "rf_top_features = X_train.columns[rf_indices][:top_n]\n",
    "rf_top_importances = rf_importances[rf_indices][:top_n]\n",
    "\n",
    "# Create a DataFrame for easier viewing\n",
    "rf_df = pd.DataFrame({\n",
    "    'Feature': rf_top_features,\n",
    "    'Importance': rf_top_importances\n",
    "})\n",
    "\n",
    "print(\"Top {} features from Random Forest:\".format(top_n))\n",
    "print(rf_df)\n",
    "\n",
    "# Plotting the Random Forest feature importances\n",
    "plt.figure(figsize=(8, 6))\n",
    "plt.title(\"Top {} Feature Importances from Random Forest\".format(top_n))\n",
    "plt.barh(rf_top_features, rf_top_importances, color='skyblue')\n",
    "plt.gca().invert_yaxis()  # Highest importance at the top\n",
    "plt.xlabel(\"Importance\")\n",
    "plt.show()"
   ]
  },
  {
   "cell_type": "markdown",
   "id": "83b71f9a-9ba6-4923-a9aa-2cad7a6c78ec",
   "metadata": {},
   "source": [
    "Our features we extracted were extremely importance for the random forest classifier alsong with a few principal components."
   ]
  },
  {
   "cell_type": "markdown",
   "id": "8a47394d-aed6-4540-bd2a-a7656ee0a4e7",
   "metadata": {},
   "source": [
    "### Best SVM Classifier"
   ]
  },
  {
   "cell_type": "markdown",
   "id": "57c6eea0-9033-4b59-a341-5d92a3fb3f97",
   "metadata": {},
   "source": [
    "Do to our use of the linear kernel feature importance extraction is relatively straightforward."
   ]
  },
  {
   "cell_type": "code",
   "execution_count": 139,
   "id": "c74a08dd-72e8-4729-9b13-72cb3b4d1250",
   "metadata": {},
   "outputs": [
    {
     "name": "stdout",
     "output_type": "stream",
     "text": [
      "\n",
      "Top 10 features from SVM (linear kernel):\n",
      "            Feature  Coefficient\n",
      "0  GLCM_Homogeneity     0.995838\n",
      "1               PC3    -0.764199\n",
      "2               PC9    -0.624033\n",
      "3    Fourier_Energy    -0.554598\n",
      "4               PC6    -0.439544\n",
      "5               PC2     0.407962\n",
      "6               PC7     0.393296\n",
      "7              PC13    -0.329457\n",
      "8        Blurriness    -0.310584\n",
      "9              PC14     0.289741\n"
     ]
    },
    {
     "data": {
      "image/png": "[encoded data removed]",
      "text/plain": [
       "<Figure size 800x600 with 1 Axes>"
      ]
     },
     "metadata": {},
     "output_type": "display_data"
    }
   ],
   "source": [
    "# For a linear SVM, the coefficients indicate feature importance.\n",
    "# They can be positive or negative so we'll take absolute values to rank importance.\n",
    "svm_coef = best_svm.coef_[0]\n",
    "svm_importances = np.abs(svm_coef)\n",
    "\n",
    "# Get indices of features sorted by absolute coefficient value (in descending order)\n",
    "svm_indices = np.argsort(svm_importances)[::-1]\n",
    "\n",
    "# Extract the top N features and the corresponding coefficient values\n",
    "svm_top_features = X_train.columns[svm_indices][:top_n]\n",
    "svm_top_coef = svm_coef[svm_indices][:top_n]\n",
    "\n",
    "# Create a DataFrame for easier viewing\n",
    "svm_df = pd.DataFrame({\n",
    "    'Feature': svm_top_features,\n",
    "    'Coefficient': svm_top_coef\n",
    "})\n",
    "\n",
    "print(\"\\nTop {} features from SVM (linear kernel):\".format(top_n))\n",
    "print(svm_df)\n",
    "\n",
    "# Plotting the SVM coefficients\n",
    "plt.figure(figsize=(8, 6))\n",
    "plt.title(\"Top {} Tuned SVM Coefficients (Feature Importance)\".format(top_n))\n",
    "plt.barh(svm_top_features, svm_top_coef, color='lightgreen')\n",
    "plt.gca().invert_yaxis()  # Highest coefficient at the top\n",
    "plt.xlabel(\"Coefficient Value\")\n",
    "plt.show()"
   ]
  },
  {
   "cell_type": "markdown",
   "id": "f86b27fa-558a-4735-a2b1-cef9eac44c99",
   "metadata": {},
   "source": [
    "The SVM classifier also had high importance (magnitude of the coefficient) for the features we extracted in our EDA process. We also see that 3 of the same principal components are important here (PC3, PC6, and PC9)."
   ]
  },
  {
   "cell_type": "markdown",
   "id": "78e2f61d-ee83-4ed2-a2d8-749184156d36",
   "metadata": {},
   "source": [
    "# Findings & Conclusion"
   ]
  },
  {
   "cell_type": "markdown",
   "id": "be9bc79e-74cd-4821-af3d-dd790c19f58b",
   "metadata": {},
   "source": [
    "Our analysis demonstrated that deep learning techniques, particularly those using transfer learning with pretrained models like VGG16, significantly outperformed traditional machine learning methods. While baseline models (such as the dummy classifier, Random Forest, and Support Vector Machine) achieved accuracies in the 69–70% range, our custom convolutional neural network (CNN) improved this to about 88%. Most notably, the VGG16 model achieved nearly 95% accuracy, with very high recall (over 98%) and excellent precision. This means that the model was not only very good at correctly identifying pneumonia cases but also minimized the risk of missing true cases—a critical factor in medical diagnosis."
   ]
  },
  {
   "cell_type": "markdown",
   "id": "77f3cba3-00ae-4898-88cb-c396cd4881c8",
   "metadata": {},
   "source": [
    "## Real-World Impact Discussion"
   ]
  },
  {
   "cell_type": "markdown",
   "id": "893a2243-6b25-4568-a28c-040f12a9a349",
   "metadata": {},
   "source": [
    "These results indicate that automated chest X-ray analysis using deep learning can provide reliable screening for pneumonia. High recall is especially important in a clinical context, where missing a pneumonia diagnosis could lead to delayed treatment and serious patient outcomes. In essence, our study suggests that leveraging pretrained CNNs can be a viable strategy for developing cost-effective and accurate diagnostic tools that may help improve early detection of pneumonia in healthcare settings."
   ]
  },
  {
   "cell_type": "markdown",
   "id": "21fcb8c7-4fa9-4da5-b2bb-ac1534fadeeb",
   "metadata": {},
   "source": [
    "# Next Steps & Recommendations"
   ]
  },
  {
   "cell_type": "markdown",
   "id": "1bfcf596-e418-4240-abf1-43cdb11f3fd6",
   "metadata": {},
   "source": [
    "**Data Enrichment and Balance:**\n",
    "\n",
    "- Although our models performed well, the dataset was imbalanced—with a larger proportion of pneumonia cases and limited examples of viral pneumonia. Future work should focus on collecting a more balanced and diverse set of X-ray images. This would help in further refining the model’s ability to distinguish between bacterial and viral pneumonia, a differentiation that is crucial for guiding treatment.\n",
    "\n",
    "**Model Fine-Tuning and Ensemble Strategies:**\n",
    "\n",
    "- While transfer learning with VGG16 produced excellent results, additional fine-tuning—possibly by unfreezing more layers or combining multiple CNN architectures—might further boost performance. Exploring ensemble methods that combine the strengths of different CNN architectures could also lead to even more robust predictions.\n",
    "\n",
    "**Interpretability and Clinical Integration:**\n",
    "\n",
    "- For real-world deployment, it is important to increase the interpretability of the model’s decisions. Techniques such as Grad-CAM or saliency maps can help visualize which areas of the X-ray the model is focusing on, thereby building trust among clinicians. Additionally, integrating these models into existing clinical workflows and validating them prospectively in a healthcare setting will be key to ensuring practical utility.\n",
    "\n",
    "**Future Research Directions:**\n",
    "\n",
    "- Beyond pneumonia detection, the framework and methodology developed here could be extended to other diagnostic imaging challenges. Investigating the use of similar deep learning approaches for detecting other respiratory conditions or even different types of medical imaging (e.g., CT scans) could further broaden the impact of this work."
   ]
  }
 ],
 "metadata": {
  "kernelspec": {
   "display_name": "Python 3 (ipykernel)",
   "language": "python",
   "name": "python3"
  },
  "language_info": {
   "codemirror_mode": {
    "name": "ipython",
    "version": 3
   },
   "file_extension": ".py",
   "mimetype": "text/x-python",
   "name": "python",
   "nbconvert_exporter": "python",
   "pygments_lexer": "ipython3",
   "version": "3.12.2"
  }
 },
 "nbformat": 4,
 "nbformat_minor": 5
}
